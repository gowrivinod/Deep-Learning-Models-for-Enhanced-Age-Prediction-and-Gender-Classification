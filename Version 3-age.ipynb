{
 "cells": [
  {
   "cell_type": "code",
   "execution_count": 1,
   "id": "b8946624",
   "metadata": {
    "execution": {
     "iopub.execute_input": "2024-01-24T12:37:12.619119Z",
     "iopub.status.busy": "2024-01-24T12:37:12.618478Z",
     "iopub.status.idle": "2024-01-24T12:37:20.681055Z",
     "shell.execute_reply": "2024-01-24T12:37:20.680088Z"
    },
    "papermill": {
     "duration": 8.074531,
     "end_time": "2024-01-24T12:37:20.683371",
     "exception": false,
     "start_time": "2024-01-24T12:37:12.608840",
     "status": "completed"
    },
    "tags": []
   },
   "outputs": [
    {
     "name": "stderr",
     "output_type": "stream",
     "text": [
      "/opt/conda/lib/python3.10/site-packages/scipy/__init__.py:146: UserWarning: A NumPy version >=1.16.5 and <1.23.0 is required for this version of SciPy (detected version 1.23.5\n",
      "  warnings.warn(f\"A NumPy version >={np_minversion} and <{np_maxversion}\"\n",
      "/opt/conda/lib/python3.10/site-packages/tensorflow_io/python/ops/__init__.py:98: UserWarning: unable to load libtensorflow_io_plugins.so: unable to open file: libtensorflow_io_plugins.so, from paths: ['/opt/conda/lib/python3.10/site-packages/tensorflow_io/python/ops/libtensorflow_io_plugins.so']\n",
      "caused by: ['/opt/conda/lib/python3.10/site-packages/tensorflow_io/python/ops/libtensorflow_io_plugins.so: undefined symbol: _ZN3tsl6StatusC1EN10tensorflow5error4CodeESt17basic_string_viewIcSt11char_traitsIcEENS_14SourceLocationE']\n",
      "  warnings.warn(f\"unable to load libtensorflow_io_plugins.so: {e}\")\n",
      "/opt/conda/lib/python3.10/site-packages/tensorflow_io/python/ops/__init__.py:104: UserWarning: file system plugins are not loaded: unable to open file: libtensorflow_io.so, from paths: ['/opt/conda/lib/python3.10/site-packages/tensorflow_io/python/ops/libtensorflow_io.so']\n",
      "caused by: ['/opt/conda/lib/python3.10/site-packages/tensorflow_io/python/ops/libtensorflow_io.so: undefined symbol: _ZTVN10tensorflow13GcsFileSystemE']\n",
      "  warnings.warn(f\"file system plugins are not loaded: {e}\")\n"
     ]
    }
   ],
   "source": [
    "import numpy as np\n",
    "import pandas as pd\n",
    "from sklearn.model_selection import train_test_split\n",
    "from sklearn.preprocessing import LabelEncoder\n",
    "import os\n",
    "from PIL import Image\n",
    "from keras.preprocessing.image import ImageDataGenerator\n",
    "from matplotlib import pyplot as plt\n",
    "import tensorflow as tf"
   ]
  },
  {
   "cell_type": "code",
   "execution_count": 2,
   "id": "b2d4bc05",
   "metadata": {
    "execution": {
     "iopub.execute_input": "2024-01-24T12:37:20.700850Z",
     "iopub.status.busy": "2024-01-24T12:37:20.700236Z",
     "iopub.status.idle": "2024-01-24T12:37:24.118571Z",
     "shell.execute_reply": "2024-01-24T12:37:24.117758Z"
    },
    "papermill": {
     "duration": 3.428638,
     "end_time": "2024-01-24T12:37:24.120331",
     "exception": false,
     "start_time": "2024-01-24T12:37:20.691693",
     "status": "completed"
    },
    "tags": []
   },
   "outputs": [
    {
     "data": {
      "text/html": [
       "<div>\n",
       "<style scoped>\n",
       "    .dataframe tbody tr th:only-of-type {\n",
       "        vertical-align: middle;\n",
       "    }\n",
       "\n",
       "    .dataframe tbody tr th {\n",
       "        vertical-align: top;\n",
       "    }\n",
       "\n",
       "    .dataframe thead th {\n",
       "        text-align: right;\n",
       "    }\n",
       "</style>\n",
       "<table border=\"1\" class=\"dataframe\">\n",
       "  <thead>\n",
       "    <tr style=\"text-align: right;\">\n",
       "      <th></th>\n",
       "      <th>age</th>\n",
       "      <th>ethnicity</th>\n",
       "      <th>gender</th>\n",
       "      <th>img_name</th>\n",
       "      <th>pixels</th>\n",
       "    </tr>\n",
       "  </thead>\n",
       "  <tbody>\n",
       "    <tr>\n",
       "      <th>0</th>\n",
       "      <td>1</td>\n",
       "      <td>2</td>\n",
       "      <td>0</td>\n",
       "      <td>20161219203650636.jpg.chip.jpg</td>\n",
       "      <td>129 128 128 126 127 130 133 135 139 142 145 14...</td>\n",
       "    </tr>\n",
       "    <tr>\n",
       "      <th>1</th>\n",
       "      <td>1</td>\n",
       "      <td>2</td>\n",
       "      <td>0</td>\n",
       "      <td>20161219222752047.jpg.chip.jpg</td>\n",
       "      <td>164 74 111 168 169 171 175 182 184 188 193 199...</td>\n",
       "    </tr>\n",
       "    <tr>\n",
       "      <th>2</th>\n",
       "      <td>1</td>\n",
       "      <td>2</td>\n",
       "      <td>0</td>\n",
       "      <td>20161219222832191.jpg.chip.jpg</td>\n",
       "      <td>67 70 71 70 69 67 70 79 90 103 116 132 145 155...</td>\n",
       "    </tr>\n",
       "  </tbody>\n",
       "</table>\n",
       "</div>"
      ],
      "text/plain": [
       "   age  ethnicity  gender                        img_name  \\\n",
       "0    1          2       0  20161219203650636.jpg.chip.jpg   \n",
       "1    1          2       0  20161219222752047.jpg.chip.jpg   \n",
       "2    1          2       0  20161219222832191.jpg.chip.jpg   \n",
       "\n",
       "                                              pixels  \n",
       "0  129 128 128 126 127 130 133 135 139 142 145 14...  \n",
       "1  164 74 111 168 169 171 175 182 184 188 193 199...  \n",
       "2  67 70 71 70 69 67 70 79 90 103 116 132 145 155...  "
      ]
     },
     "execution_count": 2,
     "metadata": {},
     "output_type": "execute_result"
    }
   ],
   "source": [
    "dataset = pd.read_csv(\"/kaggle/input/age-gender-and-ethnicity-face-data-csv/age_gender.csv\")\n",
    "dataset.head(3)"
   ]
  },
  {
   "cell_type": "code",
   "execution_count": 3,
   "id": "73f6b6e6",
   "metadata": {
    "execution": {
     "iopub.execute_input": "2024-01-24T12:37:24.140852Z",
     "iopub.status.busy": "2024-01-24T12:37:24.140527Z",
     "iopub.status.idle": "2024-01-24T12:37:30.257825Z",
     "shell.execute_reply": "2024-01-24T12:37:30.257074Z"
    },
    "papermill": {
     "duration": 6.130544,
     "end_time": "2024-01-24T12:37:30.260170",
     "exception": false,
     "start_time": "2024-01-24T12:37:24.129626",
     "status": "completed"
    },
    "tags": []
   },
   "outputs": [],
   "source": [
    "# Convert pixel strings to arrays\n",
    "dataset['pixels'] = dataset['pixels'].apply(lambda x: np.array(x.split(), dtype='float32'))\n"
   ]
  },
  {
   "cell_type": "code",
   "execution_count": 4,
   "id": "557273a8",
   "metadata": {
    "execution": {
     "iopub.execute_input": "2024-01-24T12:37:30.278958Z",
     "iopub.status.busy": "2024-01-24T12:37:30.278165Z",
     "iopub.status.idle": "2024-01-24T12:37:30.423229Z",
     "shell.execute_reply": "2024-01-24T12:37:30.422411Z"
    },
    "papermill": {
     "duration": 0.156467,
     "end_time": "2024-01-24T12:37:30.425399",
     "exception": false,
     "start_time": "2024-01-24T12:37:30.268932",
     "status": "completed"
    },
    "tags": []
   },
   "outputs": [],
   "source": [
    "\n",
    "# Reshape the arrays to 3D tensors\n",
    "dataset['pixels'] = dataset['pixels'].apply(lambda x: x.reshape(48, 48, 1))\n",
    "\n",
    "# Scale the pixels\n",
    "dataset['pixels'] = dataset['pixels'].apply(lambda x: x / 255)"
   ]
  },
  {
   "cell_type": "code",
   "execution_count": 5,
   "id": "0d4e3d72",
   "metadata": {
    "execution": {
     "iopub.execute_input": "2024-01-24T12:37:30.443128Z",
     "iopub.status.busy": "2024-01-24T12:37:30.442865Z",
     "iopub.status.idle": "2024-01-24T12:37:30.447838Z",
     "shell.execute_reply": "2024-01-24T12:37:30.446998Z"
    },
    "papermill": {
     "duration": 0.015504,
     "end_time": "2024-01-24T12:37:30.449603",
     "exception": false,
     "start_time": "2024-01-24T12:37:30.434099",
     "status": "completed"
    },
    "tags": []
   },
   "outputs": [
    {
     "data": {
      "text/plain": [
       "(23705, 5)"
      ]
     },
     "execution_count": 5,
     "metadata": {},
     "output_type": "execute_result"
    }
   ],
   "source": [
    "dataset.shape"
   ]
  },
  {
   "cell_type": "code",
   "execution_count": 6,
   "id": "fac71a32",
   "metadata": {
    "execution": {
     "iopub.execute_input": "2024-01-24T12:37:30.467534Z",
     "iopub.status.busy": "2024-01-24T12:37:30.466987Z",
     "iopub.status.idle": "2024-01-24T12:37:30.485415Z",
     "shell.execute_reply": "2024-01-24T12:37:30.484594Z"
    },
    "papermill": {
     "duration": 0.029345,
     "end_time": "2024-01-24T12:37:30.487114",
     "exception": false,
     "start_time": "2024-01-24T12:37:30.457769",
     "status": "completed"
    },
    "tags": []
   },
   "outputs": [
    {
     "data": {
      "text/plain": [
       "age          0\n",
       "ethnicity    0\n",
       "gender       0\n",
       "img_name     0\n",
       "pixels       0\n",
       "dtype: int64"
      ]
     },
     "execution_count": 6,
     "metadata": {},
     "output_type": "execute_result"
    }
   ],
   "source": [
    "dataset.isnull().sum()"
   ]
  },
  {
   "cell_type": "code",
   "execution_count": 7,
   "id": "7d545e33",
   "metadata": {
    "execution": {
     "iopub.execute_input": "2024-01-24T12:37:30.504689Z",
     "iopub.status.busy": "2024-01-24T12:37:30.504228Z",
     "iopub.status.idle": "2024-01-24T12:37:30.513978Z",
     "shell.execute_reply": "2024-01-24T12:37:30.513088Z"
    },
    "papermill": {
     "duration": 0.02048,
     "end_time": "2024-01-24T12:37:30.515693",
     "exception": false,
     "start_time": "2024-01-24T12:37:30.495213",
     "status": "completed"
    },
    "tags": []
   },
   "outputs": [
    {
     "data": {
      "text/plain": [
       "array([  1,  10, 100, 101, 103, 105,  11, 110, 111, 115, 116,  12,  13,\n",
       "        14,  15,  16,  17,  18,  19,   2,  20,  21,  22,  23,  24,  25,\n",
       "        26,  27,  28,  29,   3,  30,  31,  32,  33,  34,  35,  36,  37,\n",
       "        38,  39,   4,  40,  41,  42,  43,  44,  45,  46,  47,  48,  49,\n",
       "         5,  50,  51,  52,  53,  54,  55,  56,  57,  58,  59,   6,  60,\n",
       "        61,  62,  63,  64,  65,  66,  67,  68,  69,   7,  70,  71,  72,\n",
       "        73,  74,  75,  76,  77,  78,  79,   8,  80,  81,  82,  83,  84,\n",
       "        85,  86,  87,  88,  89,   9,  90,  91,  92,  93,  95,  96,  99])"
      ]
     },
     "execution_count": 7,
     "metadata": {},
     "output_type": "execute_result"
    }
   ],
   "source": [
    "dataset.age.unique()"
   ]
  },
  {
   "cell_type": "code",
   "execution_count": 8,
   "id": "1d84364e",
   "metadata": {
    "execution": {
     "iopub.execute_input": "2024-01-24T12:37:30.534196Z",
     "iopub.status.busy": "2024-01-24T12:37:30.533735Z",
     "iopub.status.idle": "2024-01-24T12:37:30.539380Z",
     "shell.execute_reply": "2024-01-24T12:37:30.538721Z"
    },
    "papermill": {
     "duration": 0.016853,
     "end_time": "2024-01-24T12:37:30.541060",
     "exception": false,
     "start_time": "2024-01-24T12:37:30.524207",
     "status": "completed"
    },
    "tags": []
   },
   "outputs": [
    {
     "data": {
      "text/plain": [
       "array([2, 3, 4, 0, 1])"
      ]
     },
     "execution_count": 8,
     "metadata": {},
     "output_type": "execute_result"
    }
   ],
   "source": [
    "dataset.ethnicity.unique()"
   ]
  },
  {
   "cell_type": "code",
   "execution_count": 9,
   "id": "329b0e82",
   "metadata": {
    "execution": {
     "iopub.execute_input": "2024-01-24T12:37:30.558832Z",
     "iopub.status.busy": "2024-01-24T12:37:30.558344Z",
     "iopub.status.idle": "2024-01-24T12:37:30.564130Z",
     "shell.execute_reply": "2024-01-24T12:37:30.563306Z"
    },
    "papermill": {
     "duration": 0.016628,
     "end_time": "2024-01-24T12:37:30.565838",
     "exception": false,
     "start_time": "2024-01-24T12:37:30.549210",
     "status": "completed"
    },
    "tags": []
   },
   "outputs": [
    {
     "data": {
      "text/plain": [
       "array([0, 1])"
      ]
     },
     "execution_count": 9,
     "metadata": {},
     "output_type": "execute_result"
    }
   ],
   "source": [
    "dataset.gender.unique()"
   ]
  },
  {
   "cell_type": "code",
   "execution_count": 10,
   "id": "eb4163da",
   "metadata": {
    "execution": {
     "iopub.execute_input": "2024-01-24T12:37:30.583607Z",
     "iopub.status.busy": "2024-01-24T12:37:30.583326Z",
     "iopub.status.idle": "2024-01-24T12:37:30.592017Z",
     "shell.execute_reply": "2024-01-24T12:37:30.591104Z"
    },
    "papermill": {
     "duration": 0.01993,
     "end_time": "2024-01-24T12:37:30.593966",
     "exception": false,
     "start_time": "2024-01-24T12:37:30.574036",
     "status": "completed"
    },
    "tags": []
   },
   "outputs": [
    {
     "name": "stdout",
     "output_type": "stream",
     "text": [
      "12391\n",
      "11314\n"
     ]
    }
   ],
   "source": [
    "print(sum(dataset.gender==0))##fairly balanced\n",
    "print(sum(dataset.gender==1))"
   ]
  },
  {
   "cell_type": "code",
   "execution_count": 11,
   "id": "0bd74540",
   "metadata": {
    "execution": {
     "iopub.execute_input": "2024-01-24T12:37:30.611595Z",
     "iopub.status.busy": "2024-01-24T12:37:30.611318Z",
     "iopub.status.idle": "2024-01-24T12:37:36.002658Z",
     "shell.execute_reply": "2024-01-24T12:37:36.001959Z"
    },
    "papermill": {
     "duration": 5.402124,
     "end_time": "2024-01-24T12:37:36.004266",
     "exception": false,
     "start_time": "2024-01-24T12:37:30.602142",
     "status": "completed"
    },
    "tags": []
   },
   "outputs": [
    {
     "data": {
      "text/html": [
       "<div>\n",
       "<style scoped>\n",
       "    .dataframe tbody tr th:only-of-type {\n",
       "        vertical-align: middle;\n",
       "    }\n",
       "\n",
       "    .dataframe tbody tr th {\n",
       "        vertical-align: top;\n",
       "    }\n",
       "\n",
       "    .dataframe thead th {\n",
       "        text-align: right;\n",
       "    }\n",
       "</style>\n",
       "<table border=\"1\" class=\"dataframe\">\n",
       "  <thead>\n",
       "    <tr style=\"text-align: right;\">\n",
       "      <th></th>\n",
       "      <th>age</th>\n",
       "      <th>ethnicity</th>\n",
       "      <th>gender</th>\n",
       "      <th>img_name</th>\n",
       "      <th>pixels</th>\n",
       "    </tr>\n",
       "  </thead>\n",
       "  <tbody>\n",
       "    <tr>\n",
       "      <th>0</th>\n",
       "      <td>1</td>\n",
       "      <td>2</td>\n",
       "      <td>0</td>\n",
       "      <td>20161219203650636.jpg.chip.jpg</td>\n",
       "      <td>[[[0.5058824], [0.5019608], [0.5019608], [0.49...</td>\n",
       "    </tr>\n",
       "    <tr>\n",
       "      <th>1</th>\n",
       "      <td>1</td>\n",
       "      <td>2</td>\n",
       "      <td>0</td>\n",
       "      <td>20161219222752047.jpg.chip.jpg</td>\n",
       "      <td>[[[0.6431373], [0.2901961], [0.43529412], [0.6...</td>\n",
       "    </tr>\n",
       "    <tr>\n",
       "      <th>2</th>\n",
       "      <td>1</td>\n",
       "      <td>2</td>\n",
       "      <td>0</td>\n",
       "      <td>20161219222832191.jpg.chip.jpg</td>\n",
       "      <td>[[[0.2627451], [0.27450982], [0.2784314], [0.2...</td>\n",
       "    </tr>\n",
       "    <tr>\n",
       "      <th>3</th>\n",
       "      <td>1</td>\n",
       "      <td>2</td>\n",
       "      <td>0</td>\n",
       "      <td>20161220144911423.jpg.chip.jpg</td>\n",
       "      <td>[[[0.75686276], [0.77254903], [0.7764706], [0....</td>\n",
       "    </tr>\n",
       "    <tr>\n",
       "      <th>4</th>\n",
       "      <td>1</td>\n",
       "      <td>2</td>\n",
       "      <td>0</td>\n",
       "      <td>20161220144914327.jpg.chip.jpg</td>\n",
       "      <td>[[[0.7921569], [0.8039216], [0.81960785], [0.8...</td>\n",
       "    </tr>\n",
       "    <tr>\n",
       "      <th>...</th>\n",
       "      <td>...</td>\n",
       "      <td>...</td>\n",
       "      <td>...</td>\n",
       "      <td>...</td>\n",
       "      <td>...</td>\n",
       "    </tr>\n",
       "    <tr>\n",
       "      <th>23700</th>\n",
       "      <td>99</td>\n",
       "      <td>0</td>\n",
       "      <td>1</td>\n",
       "      <td>20170120221920654.jpg.chip.jpg</td>\n",
       "      <td>[[[0.49803922], [0.39215687], [0.36862746], [0...</td>\n",
       "    </tr>\n",
       "    <tr>\n",
       "      <th>23701</th>\n",
       "      <td>99</td>\n",
       "      <td>1</td>\n",
       "      <td>1</td>\n",
       "      <td>20170120134639935.jpg.chip.jpg</td>\n",
       "      <td>[[[0.09019608], [0.10980392], [0.1254902], [0....</td>\n",
       "    </tr>\n",
       "    <tr>\n",
       "      <th>23702</th>\n",
       "      <td>99</td>\n",
       "      <td>2</td>\n",
       "      <td>1</td>\n",
       "      <td>20170110182418864.jpg.chip.jpg</td>\n",
       "      <td>[[[0.23137255], [0.19607843], [0.14509805], [0...</td>\n",
       "    </tr>\n",
       "    <tr>\n",
       "      <th>23703</th>\n",
       "      <td>99</td>\n",
       "      <td>2</td>\n",
       "      <td>1</td>\n",
       "      <td>20170117195405372.jpg.chip.jpg</td>\n",
       "      <td>[[[0.1764706], [0.42352942], [0.47058824], [0....</td>\n",
       "    </tr>\n",
       "    <tr>\n",
       "      <th>23704</th>\n",
       "      <td>99</td>\n",
       "      <td>0</td>\n",
       "      <td>1</td>\n",
       "      <td>20170110182052119.jpg.chip.jpg</td>\n",
       "      <td>[[[0.6117647], [0.6313726], [0.627451], [0.647...</td>\n",
       "    </tr>\n",
       "  </tbody>\n",
       "</table>\n",
       "<p>23705 rows × 5 columns</p>\n",
       "</div>"
      ],
      "text/plain": [
       "       age  ethnicity  gender                        img_name  \\\n",
       "0        1          2       0  20161219203650636.jpg.chip.jpg   \n",
       "1        1          2       0  20161219222752047.jpg.chip.jpg   \n",
       "2        1          2       0  20161219222832191.jpg.chip.jpg   \n",
       "3        1          2       0  20161220144911423.jpg.chip.jpg   \n",
       "4        1          2       0  20161220144914327.jpg.chip.jpg   \n",
       "...    ...        ...     ...                             ...   \n",
       "23700   99          0       1  20170120221920654.jpg.chip.jpg   \n",
       "23701   99          1       1  20170120134639935.jpg.chip.jpg   \n",
       "23702   99          2       1  20170110182418864.jpg.chip.jpg   \n",
       "23703   99          2       1  20170117195405372.jpg.chip.jpg   \n",
       "23704   99          0       1  20170110182052119.jpg.chip.jpg   \n",
       "\n",
       "                                                  pixels  \n",
       "0      [[[0.5058824], [0.5019608], [0.5019608], [0.49...  \n",
       "1      [[[0.6431373], [0.2901961], [0.43529412], [0.6...  \n",
       "2      [[[0.2627451], [0.27450982], [0.2784314], [0.2...  \n",
       "3      [[[0.75686276], [0.77254903], [0.7764706], [0....  \n",
       "4      [[[0.7921569], [0.8039216], [0.81960785], [0.8...  \n",
       "...                                                  ...  \n",
       "23700  [[[0.49803922], [0.39215687], [0.36862746], [0...  \n",
       "23701  [[[0.09019608], [0.10980392], [0.1254902], [0....  \n",
       "23702  [[[0.23137255], [0.19607843], [0.14509805], [0...  \n",
       "23703  [[[0.1764706], [0.42352942], [0.47058824], [0....  \n",
       "23704  [[[0.6117647], [0.6313726], [0.627451], [0.647...  \n",
       "\n",
       "[23705 rows x 5 columns]"
      ]
     },
     "execution_count": 11,
     "metadata": {},
     "output_type": "execute_result"
    }
   ],
   "source": [
    "dataset"
   ]
  },
  {
   "cell_type": "code",
   "execution_count": 12,
   "id": "fb71c4ce",
   "metadata": {
    "execution": {
     "iopub.execute_input": "2024-01-24T12:37:36.024941Z",
     "iopub.status.busy": "2024-01-24T12:37:36.023849Z",
     "iopub.status.idle": "2024-01-24T12:37:36.108518Z",
     "shell.execute_reply": "2024-01-24T12:37:36.107411Z"
    },
    "papermill": {
     "duration": 0.096996,
     "end_time": "2024-01-24T12:37:36.110830",
     "exception": false,
     "start_time": "2024-01-24T12:37:36.013834",
     "status": "completed"
    },
    "tags": []
   },
   "outputs": [],
   "source": [
    "\n",
    "    \n",
    "# Extract features and labels\n",
    "image = np.array(dataset['pixels'].tolist()).astype(np.float32)\n",
    "age = np.array(dataset['age']).astype(np.float32)\n",
    "ethnicity = np.array(dataset['ethnicity']).astype(np.float32)\n",
    "gender = np.array(dataset['gender']).astype(np.float32)"
   ]
  },
  {
   "cell_type": "code",
   "execution_count": 13,
   "id": "fbe9070f",
   "metadata": {
    "execution": {
     "iopub.execute_input": "2024-01-24T12:37:36.129979Z",
     "iopub.status.busy": "2024-01-24T12:37:36.129643Z",
     "iopub.status.idle": "2024-01-24T12:37:36.188616Z",
     "shell.execute_reply": "2024-01-24T12:37:36.187601Z"
    },
    "papermill": {
     "duration": 0.070861,
     "end_time": "2024-01-24T12:37:36.190806",
     "exception": false,
     "start_time": "2024-01-24T12:37:36.119945",
     "status": "completed"
    },
    "tags": []
   },
   "outputs": [],
   "source": [
    "image=np.array(image).astype(np.float32)"
   ]
  },
  {
   "cell_type": "code",
   "execution_count": 14,
   "id": "8ff0860e",
   "metadata": {
    "execution": {
     "iopub.execute_input": "2024-01-24T12:37:36.210291Z",
     "iopub.status.busy": "2024-01-24T12:37:36.209965Z",
     "iopub.status.idle": "2024-01-24T12:37:36.215422Z",
     "shell.execute_reply": "2024-01-24T12:37:36.214092Z"
    },
    "papermill": {
     "duration": 0.017594,
     "end_time": "2024-01-24T12:37:36.217753",
     "exception": false,
     "start_time": "2024-01-24T12:37:36.200159",
     "status": "completed"
    },
    "tags": []
   },
   "outputs": [],
   "source": [
    "age=np.array(age).astype(np.float32)\n",
    "ethnicity=np.array(ethnicity).astype(np.float32)\n",
    "gender=np.array(gender).astype(np.float32)"
   ]
  },
  {
   "cell_type": "code",
   "execution_count": 15,
   "id": "1c96bca8",
   "metadata": {
    "execution": {
     "iopub.execute_input": "2024-01-24T12:37:36.237706Z",
     "iopub.status.busy": "2024-01-24T12:37:36.237360Z",
     "iopub.status.idle": "2024-01-24T12:37:36.561921Z",
     "shell.execute_reply": "2024-01-24T12:37:36.560642Z"
    },
    "papermill": {
     "duration": 0.33671,
     "end_time": "2024-01-24T12:37:36.564115",
     "exception": false,
     "start_time": "2024-01-24T12:37:36.227405",
     "status": "completed"
    },
    "tags": []
   },
   "outputs": [],
   "source": [
    "from sklearn.preprocessing import OneHotEncoder\n",
    "enc = LabelEncoder()\n",
    "ethnicity = tf.keras.utils.to_categorical(enc.fit_transform(ethnicity))\n"
   ]
  },
  {
   "cell_type": "code",
   "execution_count": 16,
   "id": "239dfff6",
   "metadata": {
    "execution": {
     "iopub.execute_input": "2024-01-24T12:37:36.583199Z",
     "iopub.status.busy": "2024-01-24T12:37:36.582893Z",
     "iopub.status.idle": "2024-01-24T12:37:36.589093Z",
     "shell.execute_reply": "2024-01-24T12:37:36.587703Z"
    },
    "papermill": {
     "duration": 0.017622,
     "end_time": "2024-01-24T12:37:36.590811",
     "exception": false,
     "start_time": "2024-01-24T12:37:36.573189",
     "status": "completed"
    },
    "tags": []
   },
   "outputs": [
    {
     "name": "stdout",
     "output_type": "stream",
     "text": [
      "(23705, 48, 48, 1)\n",
      "(23705,)\n",
      "(23705, 5)\n",
      "(23705,)\n"
     ]
    }
   ],
   "source": [
    "print(image.shape)\n",
    "print(age.shape)\n",
    "print(ethnicity.shape)\n",
    "print(gender.shape)"
   ]
  },
  {
   "cell_type": "code",
   "execution_count": 17,
   "id": "1c471712",
   "metadata": {
    "execution": {
     "iopub.execute_input": "2024-01-24T12:37:36.609864Z",
     "iopub.status.busy": "2024-01-24T12:37:36.609506Z",
     "iopub.status.idle": "2024-01-24T12:37:36.613447Z",
     "shell.execute_reply": "2024-01-24T12:37:36.612610Z"
    },
    "papermill": {
     "duration": 0.015399,
     "end_time": "2024-01-24T12:37:36.615233",
     "exception": false,
     "start_time": "2024-01-24T12:37:36.599834",
     "status": "completed"
    },
    "tags": []
   },
   "outputs": [],
   "source": [
    "# Access the 'age' column\n",
    "age = dataset['age'].values\n"
   ]
  },
  {
   "cell_type": "code",
   "execution_count": 18,
   "id": "787c80f6",
   "metadata": {
    "execution": {
     "iopub.execute_input": "2024-01-24T12:37:36.634237Z",
     "iopub.status.busy": "2024-01-24T12:37:36.633904Z",
     "iopub.status.idle": "2024-01-24T12:37:36.808361Z",
     "shell.execute_reply": "2024-01-24T12:37:36.807621Z"
    },
    "papermill": {
     "duration": 0.186622,
     "end_time": "2024-01-24T12:37:36.810464",
     "exception": false,
     "start_time": "2024-01-24T12:37:36.623842",
     "status": "completed"
    },
    "tags": []
   },
   "outputs": [],
   "source": [
    "\n",
    "# Split the data for age\n",
    "x_train_age, x_test_age, age_y_train, age_y_test = train_test_split(image, age, test_size=0.2, random_state=42, shuffle=True)\n",
    "x_train_age, x_val_age, age_y_train, age_y_val = train_test_split(x_train_age, age_y_train, test_size=0.25, random_state=42, shuffle=True)\n",
    "\n",
    "# Split the data for ethnicity\n",
    "x_train_ethnicity, x_test_ethnicity, ethnicity_y_train, ethnicity_y_test = train_test_split(image, ethnicity, test_size=0.2, random_state=42, shuffle=True)\n",
    "x_train_ethnicity, x_val_ethnicity, ethnicity_y_train, ethnicity_y_val = train_test_split(x_train_ethnicity, ethnicity_y_train, test_size=0.25, random_state=42, shuffle=True)\n",
    "\n",
    "# Split the data for gender\n",
    "x_train_gender, x_test_gender, gender_y_train, gender_y_test = train_test_split(image, gender, test_size=0.2, random_state=42, shuffle=True)\n",
    "x_train_gender, x_val_gender, gender_y_train, gender_y_val = train_test_split(x_train_gender, gender_y_train, test_size=0.25, random_state=42, shuffle=True)"
   ]
  },
  {
   "cell_type": "code",
   "execution_count": 19,
   "id": "de7b3c80",
   "metadata": {
    "execution": {
     "iopub.execute_input": "2024-01-24T12:37:36.830761Z",
     "iopub.status.busy": "2024-01-24T12:37:36.830442Z",
     "iopub.status.idle": "2024-01-24T12:37:36.836406Z",
     "shell.execute_reply": "2024-01-24T12:37:36.835185Z"
    },
    "papermill": {
     "duration": 0.017351,
     "end_time": "2024-01-24T12:37:36.838213",
     "exception": false,
     "start_time": "2024-01-24T12:37:36.820862",
     "status": "completed"
    },
    "tags": []
   },
   "outputs": [
    {
     "data": {
      "text/plain": [
       "14223"
      ]
     },
     "execution_count": 19,
     "metadata": {},
     "output_type": "execute_result"
    }
   ],
   "source": [
    "len(x_train_age)"
   ]
  },
  {
   "cell_type": "code",
   "execution_count": 20,
   "id": "7f4e425d",
   "metadata": {
    "execution": {
     "iopub.execute_input": "2024-01-24T12:37:36.856944Z",
     "iopub.status.busy": "2024-01-24T12:37:36.856685Z",
     "iopub.status.idle": "2024-01-24T12:37:36.862254Z",
     "shell.execute_reply": "2024-01-24T12:37:36.861483Z"
    },
    "papermill": {
     "duration": 0.01662,
     "end_time": "2024-01-24T12:37:36.863893",
     "exception": false,
     "start_time": "2024-01-24T12:37:36.847273",
     "status": "completed"
    },
    "tags": []
   },
   "outputs": [
    {
     "data": {
      "text/plain": [
       "4741"
      ]
     },
     "execution_count": 20,
     "metadata": {},
     "output_type": "execute_result"
    }
   ],
   "source": [
    "len(x_test_age)"
   ]
  },
  {
   "cell_type": "code",
   "execution_count": 21,
   "id": "d192d10d",
   "metadata": {
    "execution": {
     "iopub.execute_input": "2024-01-24T12:37:36.884336Z",
     "iopub.status.busy": "2024-01-24T12:37:36.883989Z",
     "iopub.status.idle": "2024-01-24T12:37:36.888710Z",
     "shell.execute_reply": "2024-01-24T12:37:36.887873Z"
    },
    "papermill": {
     "duration": 0.01699,
     "end_time": "2024-01-24T12:37:36.890822",
     "exception": false,
     "start_time": "2024-01-24T12:37:36.873832",
     "status": "completed"
    },
    "tags": []
   },
   "outputs": [
    {
     "name": "stdout",
     "output_type": "stream",
     "text": [
      "14223\n",
      "14223\n",
      "14223\n"
     ]
    }
   ],
   "source": [
    "print(len(age_y_train))\n",
    "print(len(ethnicity_y_train))\n",
    "print(len(gender_y_train))"
   ]
  },
  {
   "cell_type": "code",
   "execution_count": 22,
   "id": "7dad94d2",
   "metadata": {
    "execution": {
     "iopub.execute_input": "2024-01-24T12:37:36.910759Z",
     "iopub.status.busy": "2024-01-24T12:37:36.910422Z",
     "iopub.status.idle": "2024-01-24T12:37:36.916752Z",
     "shell.execute_reply": "2024-01-24T12:37:36.915895Z"
    },
    "papermill": {
     "duration": 0.018269,
     "end_time": "2024-01-24T12:37:36.918441",
     "exception": false,
     "start_time": "2024-01-24T12:37:36.900172",
     "status": "completed"
    },
    "tags": []
   },
   "outputs": [
    {
     "data": {
      "text/plain": [
       "array([1., 1., 0., ..., 1., 0., 0.], dtype=float32)"
      ]
     },
     "execution_count": 22,
     "metadata": {},
     "output_type": "execute_result"
    }
   ],
   "source": [
    "gender_y_train"
   ]
  },
  {
   "cell_type": "code",
   "execution_count": 23,
   "id": "7bc61ddb",
   "metadata": {
    "execution": {
     "iopub.execute_input": "2024-01-24T12:37:36.939204Z",
     "iopub.status.busy": "2024-01-24T12:37:36.938904Z",
     "iopub.status.idle": "2024-01-24T12:37:36.944463Z",
     "shell.execute_reply": "2024-01-24T12:37:36.943526Z"
    },
    "papermill": {
     "duration": 0.01838,
     "end_time": "2024-01-24T12:37:36.946231",
     "exception": false,
     "start_time": "2024-01-24T12:37:36.927851",
     "status": "completed"
    },
    "tags": []
   },
   "outputs": [
    {
     "data": {
      "text/plain": [
       "numpy.ndarray"
      ]
     },
     "execution_count": 23,
     "metadata": {},
     "output_type": "execute_result"
    }
   ],
   "source": [
    "type(age)\n",
    "#print(gender.shape)\n"
   ]
  },
  {
   "cell_type": "code",
   "execution_count": 24,
   "id": "90cde19e",
   "metadata": {
    "execution": {
     "iopub.execute_input": "2024-01-24T12:37:36.965968Z",
     "iopub.status.busy": "2024-01-24T12:37:36.965666Z",
     "iopub.status.idle": "2024-01-24T12:37:37.046012Z",
     "shell.execute_reply": "2024-01-24T12:37:37.045127Z"
    },
    "papermill": {
     "duration": 0.092907,
     "end_time": "2024-01-24T12:37:37.048508",
     "exception": false,
     "start_time": "2024-01-24T12:37:36.955601",
     "status": "completed"
    },
    "tags": []
   },
   "outputs": [],
   "source": [
    "##Building the modle\n",
    "age=tf.keras.models.Sequential()##to start the model\n"
   ]
  },
  {
   "cell_type": "code",
   "execution_count": 25,
   "id": "bb8cfd8a",
   "metadata": {
    "execution": {
     "iopub.execute_input": "2024-01-24T12:37:37.068335Z",
     "iopub.status.busy": "2024-01-24T12:37:37.068025Z",
     "iopub.status.idle": "2024-01-24T12:37:37.073133Z",
     "shell.execute_reply": "2024-01-24T12:37:37.072128Z"
    },
    "papermill": {
     "duration": 0.017463,
     "end_time": "2024-01-24T12:37:37.075415",
     "exception": false,
     "start_time": "2024-01-24T12:37:37.057952",
     "status": "completed"
    },
    "tags": []
   },
   "outputs": [
    {
     "data": {
      "text/plain": [
       "keras.engine.sequential.Sequential"
      ]
     },
     "execution_count": 25,
     "metadata": {},
     "output_type": "execute_result"
    }
   ],
   "source": [
    "type(age)\n",
    "#print(gender.shape)\n"
   ]
  },
  {
   "cell_type": "code",
   "execution_count": 26,
   "id": "eac77fa0",
   "metadata": {
    "execution": {
     "iopub.execute_input": "2024-01-24T12:37:37.096415Z",
     "iopub.status.busy": "2024-01-24T12:37:37.095625Z",
     "iopub.status.idle": "2024-01-24T12:37:37.249048Z",
     "shell.execute_reply": "2024-01-24T12:37:37.248214Z"
    },
    "papermill": {
     "duration": 0.165916,
     "end_time": "2024-01-24T12:37:37.251085",
     "exception": false,
     "start_time": "2024-01-24T12:37:37.085169",
     "status": "completed"
    },
    "tags": []
   },
   "outputs": [],
   "source": [
    "# Create a Sequential model\n",
    "age = tf.keras.Sequential()\n",
    "\n",
    "# First convolutional layer\n",
    "age.add(tf.keras.layers.Conv2D(filters=64, activation='relu', kernel_size=3, input_shape=[48, 48, 1]))\n",
    "\n",
    "# Pooling layer\n",
    "age.add(tf.keras.layers.MaxPooling2D(pool_size=2, strides=2, padding='same'))\n",
    "\n",
    "# Second convolutional layer\n",
    "age.add(tf.keras.layers.Conv2D(filters=128, activation='relu', kernel_size=3))\n",
    "\n",
    "# Pooling layer\n",
    "age.add(tf.keras.layers.MaxPooling2D(pool_size=2, strides=2, padding='same'))\n",
    "\n",
    "# Third convolutional layer\n",
    "age.add(tf.keras.layers.Conv2D(filters=256, activation='relu', kernel_size=3))\n",
    "\n",
    "# Pooling layer\n",
    "age.add(tf.keras.layers.MaxPooling2D(pool_size=2, strides=2, padding='same'))\n",
    "\n",
    "# Flatten the result\n",
    "age.add(tf.keras.layers.Flatten())\n",
    "\n",
    "# First fully connected layer\n",
    "age.add(tf.keras.layers.Dense(units=1024, activation='relu'))\n",
    "\n",
    "# Second fully connected layer\n",
    "age.add(tf.keras.layers.Dense(units=512, activation='relu'))\n",
    "\n",
    "# Output layer\n",
    "age.add(tf.keras.layers.Dense(units=1, activation='linear'))"
   ]
  },
  {
   "cell_type": "code",
   "execution_count": 27,
   "id": "3b577ad3",
   "metadata": {
    "execution": {
     "iopub.execute_input": "2024-01-24T12:37:37.273165Z",
     "iopub.status.busy": "2024-01-24T12:37:37.272452Z",
     "iopub.status.idle": "2024-01-24T12:37:37.276453Z",
     "shell.execute_reply": "2024-01-24T12:37:37.275695Z"
    },
    "papermill": {
     "duration": 0.017409,
     "end_time": "2024-01-24T12:37:37.278638",
     "exception": false,
     "start_time": "2024-01-24T12:37:37.261229",
     "status": "completed"
    },
    "tags": []
   },
   "outputs": [],
   "source": [
    "#import tensorflow as tf\n",
    "#from tensorflow.keras.callbacks import EarlyStopping\n",
    "\n",
    "#early_stopping = EarlyStopping(monitor='val_loss', patience=3, restore_best_weights=True)"
   ]
  },
  {
   "cell_type": "code",
   "execution_count": 28,
   "id": "db9e2b61",
   "metadata": {
    "execution": {
     "iopub.execute_input": "2024-01-24T12:37:37.300417Z",
     "iopub.status.busy": "2024-01-24T12:37:37.299876Z",
     "iopub.status.idle": "2024-01-24T12:37:37.314508Z",
     "shell.execute_reply": "2024-01-24T12:37:37.313795Z"
    },
    "papermill": {
     "duration": 0.028064,
     "end_time": "2024-01-24T12:37:37.316371",
     "exception": false,
     "start_time": "2024-01-24T12:37:37.288307",
     "status": "completed"
    },
    "tags": []
   },
   "outputs": [],
   "source": [
    "##compile the model\n",
    "age.compile(optimizer='adam',loss='mean_squared_error',metrics = ['mse'])"
   ]
  },
  {
   "cell_type": "code",
   "execution_count": 29,
   "id": "cd9e3f85",
   "metadata": {
    "execution": {
     "iopub.execute_input": "2024-01-24T12:37:37.336317Z",
     "iopub.status.busy": "2024-01-24T12:37:37.336010Z",
     "iopub.status.idle": "2024-01-24T12:37:37.364794Z",
     "shell.execute_reply": "2024-01-24T12:37:37.363988Z"
    },
    "papermill": {
     "duration": 0.042128,
     "end_time": "2024-01-24T12:37:37.368018",
     "exception": false,
     "start_time": "2024-01-24T12:37:37.325890",
     "status": "completed"
    },
    "tags": []
   },
   "outputs": [
    {
     "name": "stdout",
     "output_type": "stream",
     "text": [
      "Model: \"sequential_1\"\n",
      "_________________________________________________________________\n",
      " Layer (type)                Output Shape              Param #   \n",
      "=================================================================\n",
      " conv2d (Conv2D)             (None, 46, 46, 64)        640       \n",
      "                                                                 \n",
      " max_pooling2d (MaxPooling2D  (None, 23, 23, 64)       0         \n",
      " )                                                               \n",
      "                                                                 \n",
      " conv2d_1 (Conv2D)           (None, 21, 21, 128)       73856     \n",
      "                                                                 \n",
      " max_pooling2d_1 (MaxPooling  (None, 11, 11, 128)      0         \n",
      " 2D)                                                             \n",
      "                                                                 \n",
      " conv2d_2 (Conv2D)           (None, 9, 9, 256)         295168    \n",
      "                                                                 \n",
      " max_pooling2d_2 (MaxPooling  (None, 5, 5, 256)        0         \n",
      " 2D)                                                             \n",
      "                                                                 \n",
      " flatten (Flatten)           (None, 6400)              0         \n",
      "                                                                 \n",
      " dense (Dense)               (None, 1024)              6554624   \n",
      "                                                                 \n",
      " dense_1 (Dense)             (None, 512)               524800    \n",
      "                                                                 \n",
      " dense_2 (Dense)             (None, 1)                 513       \n",
      "                                                                 \n",
      "=================================================================\n",
      "Total params: 7,449,601\n",
      "Trainable params: 7,449,601\n",
      "Non-trainable params: 0\n",
      "_________________________________________________________________\n"
     ]
    }
   ],
   "source": [
    "age.summary()"
   ]
  },
  {
   "cell_type": "code",
   "execution_count": 30,
   "id": "f4edeea3",
   "metadata": {
    "execution": {
     "iopub.execute_input": "2024-01-24T12:37:37.391976Z",
     "iopub.status.busy": "2024-01-24T12:37:37.391612Z",
     "iopub.status.idle": "2024-01-24T13:16:53.397250Z",
     "shell.execute_reply": "2024-01-24T13:16:53.396007Z"
    },
    "papermill": {
     "duration": 2356.020169,
     "end_time": "2024-01-24T13:16:53.399451",
     "exception": false,
     "start_time": "2024-01-24T12:37:37.379282",
     "status": "completed"
    },
    "tags": []
   },
   "outputs": [
    {
     "name": "stdout",
     "output_type": "stream",
     "text": [
      "Epoch 1/30\n",
      "445/445 [==============================] - 79s 176ms/step - loss: 366.3131 - mse: 366.3131 - val_loss: 290.8677 - val_mse: 290.8677\n",
      "Epoch 2/30\n",
      "445/445 [==============================] - 79s 177ms/step - loss: 180.1095 - mse: 180.1095 - val_loss: 138.4828 - val_mse: 138.4828\n",
      "Epoch 3/30\n",
      "445/445 [==============================] - 78s 176ms/step - loss: 131.0543 - mse: 131.0543 - val_loss: 132.6064 - val_mse: 132.6064\n",
      "Epoch 4/30\n",
      "445/445 [==============================] - 78s 175ms/step - loss: 109.4839 - mse: 109.4839 - val_loss: 115.7543 - val_mse: 115.7543\n",
      "Epoch 5/30\n",
      "445/445 [==============================] - 78s 176ms/step - loss: 91.4706 - mse: 91.4706 - val_loss: 109.3271 - val_mse: 109.3271\n",
      "Epoch 6/30\n",
      "445/445 [==============================] - 78s 176ms/step - loss: 82.2204 - mse: 82.2204 - val_loss: 112.1370 - val_mse: 112.1370\n",
      "Epoch 7/30\n",
      "445/445 [==============================] - 78s 176ms/step - loss: 68.9271 - mse: 68.9271 - val_loss: 91.7385 - val_mse: 91.7385\n",
      "Epoch 8/30\n",
      "445/445 [==============================] - 78s 176ms/step - loss: 62.1678 - mse: 62.1678 - val_loss: 80.8268 - val_mse: 80.8268\n",
      "Epoch 9/30\n",
      "445/445 [==============================] - 78s 176ms/step - loss: 55.1125 - mse: 55.1125 - val_loss: 88.6030 - val_mse: 88.6030\n",
      "Epoch 10/30\n",
      "445/445 [==============================] - 78s 175ms/step - loss: 47.0374 - mse: 47.0374 - val_loss: 82.4528 - val_mse: 82.4528\n",
      "Epoch 11/30\n",
      "445/445 [==============================] - 79s 177ms/step - loss: 41.8084 - mse: 41.8084 - val_loss: 82.2126 - val_mse: 82.2126\n",
      "Epoch 12/30\n",
      "445/445 [==============================] - 79s 177ms/step - loss: 37.5902 - mse: 37.5902 - val_loss: 82.2390 - val_mse: 82.2390\n",
      "Epoch 13/30\n",
      "445/445 [==============================] - 78s 175ms/step - loss: 32.5922 - mse: 32.5922 - val_loss: 86.8065 - val_mse: 86.8065\n",
      "Epoch 14/30\n",
      "445/445 [==============================] - 79s 177ms/step - loss: 30.1255 - mse: 30.1255 - val_loss: 91.1583 - val_mse: 91.1583\n",
      "Epoch 15/30\n",
      "445/445 [==============================] - 78s 176ms/step - loss: 27.5136 - mse: 27.5136 - val_loss: 92.0856 - val_mse: 92.0856\n",
      "Epoch 16/30\n",
      "445/445 [==============================] - 79s 177ms/step - loss: 24.6625 - mse: 24.6625 - val_loss: 84.3082 - val_mse: 84.3082\n",
      "Epoch 17/30\n",
      "445/445 [==============================] - 78s 175ms/step - loss: 23.3131 - mse: 23.3131 - val_loss: 89.1920 - val_mse: 89.1920\n",
      "Epoch 18/30\n",
      "445/445 [==============================] - 80s 179ms/step - loss: 21.1139 - mse: 21.1139 - val_loss: 81.0588 - val_mse: 81.0588\n",
      "Epoch 19/30\n",
      "445/445 [==============================] - 80s 179ms/step - loss: 19.8047 - mse: 19.8047 - val_loss: 89.7878 - val_mse: 89.7878\n",
      "Epoch 20/30\n",
      "445/445 [==============================] - 79s 177ms/step - loss: 17.2001 - mse: 17.2001 - val_loss: 93.9134 - val_mse: 93.9134\n",
      "Epoch 21/30\n",
      "445/445 [==============================] - 79s 178ms/step - loss: 15.6132 - mse: 15.6132 - val_loss: 83.8062 - val_mse: 83.8062\n",
      "Epoch 22/30\n",
      "445/445 [==============================] - 78s 175ms/step - loss: 15.4390 - mse: 15.4390 - val_loss: 85.2598 - val_mse: 85.2598\n",
      "Epoch 23/30\n",
      "445/445 [==============================] - 79s 178ms/step - loss: 14.3297 - mse: 14.3297 - val_loss: 83.8821 - val_mse: 83.8821\n",
      "Epoch 24/30\n",
      "445/445 [==============================] - 79s 177ms/step - loss: 12.3337 - mse: 12.3337 - val_loss: 82.0601 - val_mse: 82.0601\n",
      "Epoch 25/30\n",
      "445/445 [==============================] - 79s 178ms/step - loss: 13.6095 - mse: 13.6095 - val_loss: 90.7091 - val_mse: 90.7091\n",
      "Epoch 26/30\n",
      "445/445 [==============================] - 79s 176ms/step - loss: 12.6409 - mse: 12.6409 - val_loss: 82.2599 - val_mse: 82.2599\n",
      "Epoch 27/30\n",
      "445/445 [==============================] - 79s 177ms/step - loss: 10.2133 - mse: 10.2133 - val_loss: 80.8844 - val_mse: 80.8844\n",
      "Epoch 28/30\n",
      "445/445 [==============================] - 79s 177ms/step - loss: 9.5762 - mse: 9.5762 - val_loss: 82.3391 - val_mse: 82.3391\n",
      "Epoch 29/30\n",
      "445/445 [==============================] - 78s 175ms/step - loss: 11.3619 - mse: 11.3619 - val_loss: 86.1346 - val_mse: 86.1346\n",
      "Epoch 30/30\n",
      "445/445 [==============================] - 78s 175ms/step - loss: 10.6418 - mse: 10.6418 - val_loss: 81.7531 - val_mse: 81.7531\n"
     ]
    }
   ],
   "source": [
    "age_model = age.fit(\n",
    "    x_train_age, age_y_train,\n",
    "    batch_size=32,\n",
    "    epochs=30,\n",
    "    validation_data=(x_val_age, age_y_val),\n",
    ")"
   ]
  },
  {
   "cell_type": "code",
   "execution_count": 31,
   "id": "02a6ebb8",
   "metadata": {
    "execution": {
     "iopub.execute_input": "2024-01-24T13:16:55.047632Z",
     "iopub.status.busy": "2024-01-24T13:16:55.046995Z",
     "iopub.status.idle": "2024-01-24T13:16:55.051212Z",
     "shell.execute_reply": "2024-01-24T13:16:55.050603Z"
    },
    "papermill": {
     "duration": 0.830149,
     "end_time": "2024-01-24T13:16:55.052837",
     "exception": false,
     "start_time": "2024-01-24T13:16:54.222688",
     "status": "completed"
    },
    "tags": []
   },
   "outputs": [],
   "source": [
    "from keras.models import model_from_json\n",
    "from keras.models import Sequential  # If you're using a Sequential model\n",
    "from keras.layers import Dense, Conv2D, Flatten  # Example layers, adjust as per your model architecture\n"
   ]
  },
  {
   "cell_type": "code",
   "execution_count": 32,
   "id": "85e5963c",
   "metadata": {
    "execution": {
     "iopub.execute_input": "2024-01-24T13:16:56.636738Z",
     "iopub.status.busy": "2024-01-24T13:16:56.635531Z",
     "iopub.status.idle": "2024-01-24T13:16:56.736264Z",
     "shell.execute_reply": "2024-01-24T13:16:56.734737Z"
    },
    "papermill": {
     "duration": 0.927118,
     "end_time": "2024-01-24T13:16:56.738634",
     "exception": false,
     "start_time": "2024-01-24T13:16:55.811516",
     "status": "completed"
    },
    "tags": []
   },
   "outputs": [],
   "source": [
    "#save\n",
    "age.save('/kaggle/working/age1.keras')  # The file needs to end with the .keras extension"
   ]
  },
  {
   "cell_type": "code",
   "execution_count": 33,
   "id": "c4fe86a9",
   "metadata": {
    "execution": {
     "iopub.execute_input": "2024-01-24T13:16:58.267106Z",
     "iopub.status.busy": "2024-01-24T13:16:58.266430Z",
     "iopub.status.idle": "2024-01-24T13:17:03.608758Z",
     "shell.execute_reply": "2024-01-24T13:17:03.608071Z"
    },
    "papermill": {
     "duration": 6.106021,
     "end_time": "2024-01-24T13:17:03.610748",
     "exception": false,
     "start_time": "2024-01-24T13:16:57.504727",
     "status": "completed"
    },
    "tags": []
   },
   "outputs": [
    {
     "name": "stdout",
     "output_type": "stream",
     "text": [
      "149/149 [==============================] - 5s 35ms/step - loss: 84.8721 - mse: 84.8721\n"
     ]
    }
   ],
   "source": [
    "results = age.evaluate(x_test_age,age_y_test)"
   ]
  },
  {
   "cell_type": "code",
   "execution_count": 34,
   "id": "4e66081f",
   "metadata": {
    "execution": {
     "iopub.execute_input": "2024-01-24T13:17:05.267181Z",
     "iopub.status.busy": "2024-01-24T13:17:05.266156Z",
     "iopub.status.idle": "2024-01-24T13:17:05.280645Z",
     "shell.execute_reply": "2024-01-24T13:17:05.279684Z"
    },
    "papermill": {
     "duration": 0.847179,
     "end_time": "2024-01-24T13:17:05.282756",
     "exception": false,
     "start_time": "2024-01-24T13:17:04.435577",
     "status": "completed"
    },
    "tags": []
   },
   "outputs": [],
   "source": [
    "x_test_age = np.array(x_test_age)"
   ]
  },
  {
   "cell_type": "code",
   "execution_count": 35,
   "id": "d7818d39",
   "metadata": {
    "execution": {
     "iopub.execute_input": "2024-01-24T13:17:06.856388Z",
     "iopub.status.busy": "2024-01-24T13:17:06.856060Z",
     "iopub.status.idle": "2024-01-24T13:17:06.860523Z",
     "shell.execute_reply": "2024-01-24T13:17:06.859586Z"
    },
    "papermill": {
     "duration": 0.819288,
     "end_time": "2024-01-24T13:17:06.862269",
     "exception": false,
     "start_time": "2024-01-24T13:17:06.042981",
     "status": "completed"
    },
    "tags": []
   },
   "outputs": [],
   "source": [
    "age_y_test = np.array(age_y_test)"
   ]
  },
  {
   "cell_type": "code",
   "execution_count": 36,
   "id": "e04d8b43",
   "metadata": {
    "execution": {
     "iopub.execute_input": "2024-01-24T13:17:08.375127Z",
     "iopub.status.busy": "2024-01-24T13:17:08.374790Z",
     "iopub.status.idle": "2024-01-24T13:17:13.630785Z",
     "shell.execute_reply": "2024-01-24T13:17:13.629813Z"
    },
    "papermill": {
     "duration": 6.011285,
     "end_time": "2024-01-24T13:17:13.632486",
     "exception": false,
     "start_time": "2024-01-24T13:17:07.621201",
     "status": "completed"
    },
    "tags": []
   },
   "outputs": [
    {
     "name": "stdout",
     "output_type": "stream",
     "text": [
      "149/149 [==============================] - 5s 35ms/step - loss: 84.8721 - mse: 84.8721\n"
     ]
    }
   ],
   "source": [
    "# For age\n",
    "evaluation_results_age = age.evaluate(x_test_age, age_y_test)\n"
   ]
  },
  {
   "cell_type": "code",
   "execution_count": 37,
   "id": "91a579c3",
   "metadata": {
    "execution": {
     "iopub.execute_input": "2024-01-24T13:17:15.275207Z",
     "iopub.status.busy": "2024-01-24T13:17:15.274866Z",
     "iopub.status.idle": "2024-01-24T13:17:15.279817Z",
     "shell.execute_reply": "2024-01-24T13:17:15.279092Z"
    },
    "papermill": {
     "duration": 0.828965,
     "end_time": "2024-01-24T13:17:15.281153",
     "exception": false,
     "start_time": "2024-01-24T13:17:14.452188",
     "status": "completed"
    },
    "tags": []
   },
   "outputs": [
    {
     "data": {
      "text/plain": [
       "array([49, 39,  8, ...,  2, 52, 49])"
      ]
     },
     "execution_count": 37,
     "metadata": {},
     "output_type": "execute_result"
    }
   ],
   "source": [
    "age_y_test"
   ]
  },
  {
   "cell_type": "code",
   "execution_count": 38,
   "id": "db07864a",
   "metadata": {
    "execution": {
     "iopub.execute_input": "2024-01-24T13:17:16.867538Z",
     "iopub.status.busy": "2024-01-24T13:17:16.866922Z",
     "iopub.status.idle": "2024-01-24T13:17:22.513111Z",
     "shell.execute_reply": "2024-01-24T13:17:22.511898Z"
    },
    "papermill": {
     "duration": 6.479602,
     "end_time": "2024-01-24T13:17:22.515470",
     "exception": false,
     "start_time": "2024-01-24T13:17:16.035868",
     "status": "completed"
    },
    "tags": []
   },
   "outputs": [
    {
     "name": "stdout",
     "output_type": "stream",
     "text": [
      "149/149 [==============================] - 6s 36ms/step\n"
     ]
    }
   ],
   "source": [
    "# For age\n",
    "age_y_pred = age.predict(x_test_age)\n"
   ]
  },
  {
   "cell_type": "code",
   "execution_count": 39,
   "id": "900bb962",
   "metadata": {
    "execution": {
     "iopub.execute_input": "2024-01-24T13:17:24.055323Z",
     "iopub.status.busy": "2024-01-24T13:17:24.055029Z",
     "iopub.status.idle": "2024-01-24T13:17:24.062056Z",
     "shell.execute_reply": "2024-01-24T13:17:24.061091Z"
    },
    "papermill": {
     "duration": 0.778505,
     "end_time": "2024-01-24T13:17:24.063797",
     "exception": false,
     "start_time": "2024-01-24T13:17:23.285292",
     "status": "completed"
    },
    "tags": []
   },
   "outputs": [
    {
     "data": {
      "text/plain": [
       "array([[33.49223328, 49.        ],\n",
       "       [38.87966537, 39.        ],\n",
       "       [ 9.11368084,  8.        ],\n",
       "       ...,\n",
       "       [ 5.63998127,  2.        ],\n",
       "       [67.93040466, 52.        ],\n",
       "       [52.07543564, 49.        ]])"
      ]
     },
     "execution_count": 39,
     "metadata": {},
     "output_type": "execute_result"
    }
   ],
   "source": [
    "np.concatenate((age_y_pred.reshape(len(age_y_pred),1),age_y_test.reshape(len(age_y_test),1)),1)##1 for verical of concatiantion and 0 for horizontal concatenation"
   ]
  },
  {
   "cell_type": "code",
   "execution_count": 40,
   "id": "11661a35",
   "metadata": {
    "execution": {
     "iopub.execute_input": "2024-01-24T13:17:25.716869Z",
     "iopub.status.busy": "2024-01-24T13:17:25.716231Z",
     "iopub.status.idle": "2024-01-24T13:17:25.942190Z",
     "shell.execute_reply": "2024-01-24T13:17:25.941170Z"
    },
    "papermill": {
     "duration": 1.062221,
     "end_time": "2024-01-24T13:17:25.944024",
     "exception": false,
     "start_time": "2024-01-24T13:17:24.881803",
     "status": "completed"
    },
    "tags": []
   },
   "outputs": [
    {
     "data": {
      "image/png": "[encoded data removed]",
      "text/plain": [
       "<Figure size 640x480 with 1 Axes>"
      ]
     },
     "metadata": {},
     "output_type": "display_data"
    }
   ],
   "source": [
    "# Get training and test loss histories\n",
    "training_loss = age_model.history['loss']\n",
    "test_loss = age_model.history['val_loss']\n",
    "\n",
    "# Create count of the number of epochs\n",
    "epoch_count = range(1, len(training_loss) + 1)\n",
    "\n",
    "# Visualize loss history\n",
    "plt.plot(epoch_count, training_loss, 'r--')\n",
    "plt.plot(epoch_count, test_loss, 'b-')\n",
    "plt.legend(['Training Loss', 'Test Loss'])\n",
    "plt.xlabel('Epoch')\n",
    "plt.ylabel('Loss')\n",
    "plt.show();\n"
   ]
  }
 ],
 "metadata": {
  "kaggle": {
   "accelerator": "none",
   "dataSources": [
    {
     "datasetId": 855240,
     "sourceId": 1458546,
     "sourceType": "datasetVersion"
    },
    {
     "datasetId": 4332249,
     "sourceId": 7442976,
     "sourceType": "datasetVersion"
    }
   ],
   "dockerImageVersionId": 30527,
   "isGpuEnabled": false,
   "isInternetEnabled": false,
   "language": "python",
   "sourceType": "notebook"
  },
  "kernelspec": {
   "display_name": "Python 3",
   "language": "python",
   "name": "python3"
  },
  "language_info": {
   "codemirror_mode": {
    "name": "ipython",
    "version": 3
   },
   "file_extension": ".py",
   "mimetype": "text/x-python",
   "name": "python",
   "nbconvert_exporter": "python",
   "pygments_lexer": "ipython3",
   "version": "3.10.12"
  },
  "papermill": {
   "default_parameters": {},
   "duration": 2425.354061,
   "end_time": "2024-01-24T13:17:29.285242",
   "environment_variables": {},
   "exception": null,
   "input_path": "__notebook__.ipynb",
   "output_path": "__notebook__.ipynb",
   "parameters": {},
   "start_time": "2024-01-24T12:37:03.931181",
   "version": "2.4.0"
  }
 },
 "nbformat": 4,
 "nbformat_minor": 5
}
