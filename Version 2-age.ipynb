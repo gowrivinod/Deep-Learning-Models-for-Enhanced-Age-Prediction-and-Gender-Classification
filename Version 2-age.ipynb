{
 "cells": [
  {
   "cell_type": "code",
   "execution_count": 1,
   "id": "13d7553b",
   "metadata": {
    "execution": {
     "iopub.execute_input": "2024-01-28T05:39:41.876996Z",
     "iopub.status.busy": "2024-01-28T05:39:41.876629Z",
     "iopub.status.idle": "2024-01-28T05:39:52.631312Z",
     "shell.execute_reply": "2024-01-28T05:39:52.630088Z"
    },
    "papermill": {
     "duration": 10.767955,
     "end_time": "2024-01-28T05:39:52.633965",
     "exception": false,
     "start_time": "2024-01-28T05:39:41.866010",
     "status": "completed"
    },
    "tags": []
   },
   "outputs": [
    {
     "name": "stderr",
     "output_type": "stream",
     "text": [
      "/opt/conda/lib/python3.10/site-packages/scipy/__init__.py:146: UserWarning: A NumPy version >=1.16.5 and <1.23.0 is required for this version of SciPy (detected version 1.23.5\n",
      "  warnings.warn(f\"A NumPy version >={np_minversion} and <{np_maxversion}\"\n",
      "/opt/conda/lib/python3.10/site-packages/tensorflow_io/python/ops/__init__.py:98: UserWarning: unable to load libtensorflow_io_plugins.so: unable to open file: libtensorflow_io_plugins.so, from paths: ['/opt/conda/lib/python3.10/site-packages/tensorflow_io/python/ops/libtensorflow_io_plugins.so']\n",
      "caused by: ['/opt/conda/lib/python3.10/site-packages/tensorflow_io/python/ops/libtensorflow_io_plugins.so: undefined symbol: _ZN3tsl6StatusC1EN10tensorflow5error4CodeESt17basic_string_viewIcSt11char_traitsIcEENS_14SourceLocationE']\n",
      "  warnings.warn(f\"unable to load libtensorflow_io_plugins.so: {e}\")\n",
      "/opt/conda/lib/python3.10/site-packages/tensorflow_io/python/ops/__init__.py:104: UserWarning: file system plugins are not loaded: unable to open file: libtensorflow_io.so, from paths: ['/opt/conda/lib/python3.10/site-packages/tensorflow_io/python/ops/libtensorflow_io.so']\n",
      "caused by: ['/opt/conda/lib/python3.10/site-packages/tensorflow_io/python/ops/libtensorflow_io.so: undefined symbol: _ZTVN10tensorflow13GcsFileSystemE']\n",
      "  warnings.warn(f\"file system plugins are not loaded: {e}\")\n"
     ]
    }
   ],
   "source": [
    "import numpy as np\n",
    "import pandas as pd\n",
    "from sklearn.model_selection import train_test_split\n",
    "from sklearn.preprocessing import LabelEncoder\n",
    "import os\n",
    "from PIL import Image\n",
    "from keras.preprocessing.image import ImageDataGenerator\n",
    "from matplotlib import pyplot as plt\n",
    "import tensorflow as tf"
   ]
  },
  {
   "cell_type": "code",
   "execution_count": 2,
   "id": "79e9f641",
   "metadata": {
    "execution": {
     "iopub.execute_input": "2024-01-28T05:39:52.653420Z",
     "iopub.status.busy": "2024-01-28T05:39:52.652026Z",
     "iopub.status.idle": "2024-01-28T05:39:56.725047Z",
     "shell.execute_reply": "2024-01-28T05:39:56.723640Z"
    },
    "papermill": {
     "duration": 4.085585,
     "end_time": "2024-01-28T05:39:56.728009",
     "exception": false,
     "start_time": "2024-01-28T05:39:52.642424",
     "status": "completed"
    },
    "tags": []
   },
   "outputs": [
    {
     "data": {
      "text/html": [
       "<div>\n",
       "<style scoped>\n",
       "    .dataframe tbody tr th:only-of-type {\n",
       "        vertical-align: middle;\n",
       "    }\n",
       "\n",
       "    .dataframe tbody tr th {\n",
       "        vertical-align: top;\n",
       "    }\n",
       "\n",
       "    .dataframe thead th {\n",
       "        text-align: right;\n",
       "    }\n",
       "</style>\n",
       "<table border=\"1\" class=\"dataframe\">\n",
       "  <thead>\n",
       "    <tr style=\"text-align: right;\">\n",
       "      <th></th>\n",
       "      <th>age</th>\n",
       "      <th>ethnicity</th>\n",
       "      <th>gender</th>\n",
       "      <th>img_name</th>\n",
       "      <th>pixels</th>\n",
       "    </tr>\n",
       "  </thead>\n",
       "  <tbody>\n",
       "    <tr>\n",
       "      <th>0</th>\n",
       "      <td>1</td>\n",
       "      <td>2</td>\n",
       "      <td>0</td>\n",
       "      <td>20161219203650636.jpg.chip.jpg</td>\n",
       "      <td>129 128 128 126 127 130 133 135 139 142 145 14...</td>\n",
       "    </tr>\n",
       "    <tr>\n",
       "      <th>1</th>\n",
       "      <td>1</td>\n",
       "      <td>2</td>\n",
       "      <td>0</td>\n",
       "      <td>20161219222752047.jpg.chip.jpg</td>\n",
       "      <td>164 74 111 168 169 171 175 182 184 188 193 199...</td>\n",
       "    </tr>\n",
       "    <tr>\n",
       "      <th>2</th>\n",
       "      <td>1</td>\n",
       "      <td>2</td>\n",
       "      <td>0</td>\n",
       "      <td>20161219222832191.jpg.chip.jpg</td>\n",
       "      <td>67 70 71 70 69 67 70 79 90 103 116 132 145 155...</td>\n",
       "    </tr>\n",
       "  </tbody>\n",
       "</table>\n",
       "</div>"
      ],
      "text/plain": [
       "   age  ethnicity  gender                        img_name  \\\n",
       "0    1          2       0  20161219203650636.jpg.chip.jpg   \n",
       "1    1          2       0  20161219222752047.jpg.chip.jpg   \n",
       "2    1          2       0  20161219222832191.jpg.chip.jpg   \n",
       "\n",
       "                                              pixels  \n",
       "0  129 128 128 126 127 130 133 135 139 142 145 14...  \n",
       "1  164 74 111 168 169 171 175 182 184 188 193 199...  \n",
       "2  67 70 71 70 69 67 70 79 90 103 116 132 145 155...  "
      ]
     },
     "execution_count": 2,
     "metadata": {},
     "output_type": "execute_result"
    }
   ],
   "source": [
    "dataset = pd.read_csv(\"/kaggle/input/age-gender-and-ethnicity-face-data-csv/age_gender.csv\")\n",
    "dataset.head(3)"
   ]
  },
  {
   "cell_type": "code",
   "execution_count": 3,
   "id": "9371c520",
   "metadata": {
    "execution": {
     "iopub.execute_input": "2024-01-28T05:39:56.748474Z",
     "iopub.status.busy": "2024-01-28T05:39:56.748075Z",
     "iopub.status.idle": "2024-01-28T05:40:03.166412Z",
     "shell.execute_reply": "2024-01-28T05:40:03.165268Z"
    },
    "papermill": {
     "duration": 6.432147,
     "end_time": "2024-01-28T05:40:03.168782",
     "exception": false,
     "start_time": "2024-01-28T05:39:56.736635",
     "status": "completed"
    },
    "tags": []
   },
   "outputs": [],
   "source": [
    "# Convert pixel strings to arrays\n",
    "dataset['pixels'] = dataset['pixels'].apply(lambda x: np.array(x.split(), dtype='float32'))\n"
   ]
  },
  {
   "cell_type": "code",
   "execution_count": 4,
   "id": "b40afe9c",
   "metadata": {
    "execution": {
     "iopub.execute_input": "2024-01-28T05:40:03.187329Z",
     "iopub.status.busy": "2024-01-28T05:40:03.186944Z",
     "iopub.status.idle": "2024-01-28T05:40:03.349277Z",
     "shell.execute_reply": "2024-01-28T05:40:03.347593Z"
    },
    "papermill": {
     "duration": 0.174839,
     "end_time": "2024-01-28T05:40:03.352097",
     "exception": false,
     "start_time": "2024-01-28T05:40:03.177258",
     "status": "completed"
    },
    "tags": []
   },
   "outputs": [],
   "source": [
    "\n",
    "# Reshape the arrays to 3D tensors\n",
    "dataset['pixels'] = dataset['pixels'].apply(lambda x: x.reshape(48, 48, 1))\n",
    "\n",
    "# Scale the pixels\n",
    "dataset['pixels'] = dataset['pixels'].apply(lambda x: x / 255)"
   ]
  },
  {
   "cell_type": "code",
   "execution_count": 5,
   "id": "cde612b5",
   "metadata": {
    "execution": {
     "iopub.execute_input": "2024-01-28T05:40:03.371769Z",
     "iopub.status.busy": "2024-01-28T05:40:03.371290Z",
     "iopub.status.idle": "2024-01-28T05:40:03.379432Z",
     "shell.execute_reply": "2024-01-28T05:40:03.378627Z"
    },
    "papermill": {
     "duration": 0.021222,
     "end_time": "2024-01-28T05:40:03.382186",
     "exception": false,
     "start_time": "2024-01-28T05:40:03.360964",
     "status": "completed"
    },
    "tags": []
   },
   "outputs": [
    {
     "data": {
      "text/plain": [
       "(23705, 5)"
      ]
     },
     "execution_count": 5,
     "metadata": {},
     "output_type": "execute_result"
    }
   ],
   "source": [
    "dataset.shape"
   ]
  },
  {
   "cell_type": "code",
   "execution_count": 6,
   "id": "2af451f7",
   "metadata": {
    "execution": {
     "iopub.execute_input": "2024-01-28T05:40:03.402437Z",
     "iopub.status.busy": "2024-01-28T05:40:03.402013Z",
     "iopub.status.idle": "2024-01-28T05:40:03.421825Z",
     "shell.execute_reply": "2024-01-28T05:40:03.420863Z"
    },
    "papermill": {
     "duration": 0.032463,
     "end_time": "2024-01-28T05:40:03.423827",
     "exception": false,
     "start_time": "2024-01-28T05:40:03.391364",
     "status": "completed"
    },
    "tags": []
   },
   "outputs": [
    {
     "data": {
      "text/plain": [
       "age          0\n",
       "ethnicity    0\n",
       "gender       0\n",
       "img_name     0\n",
       "pixels       0\n",
       "dtype: int64"
      ]
     },
     "execution_count": 6,
     "metadata": {},
     "output_type": "execute_result"
    }
   ],
   "source": [
    "dataset.isnull().sum()"
   ]
  },
  {
   "cell_type": "code",
   "execution_count": 7,
   "id": "fd51e429",
   "metadata": {
    "execution": {
     "iopub.execute_input": "2024-01-28T05:40:03.443486Z",
     "iopub.status.busy": "2024-01-28T05:40:03.442986Z",
     "iopub.status.idle": "2024-01-28T05:40:03.454756Z",
     "shell.execute_reply": "2024-01-28T05:40:03.453820Z"
    },
    "papermill": {
     "duration": 0.024059,
     "end_time": "2024-01-28T05:40:03.456786",
     "exception": false,
     "start_time": "2024-01-28T05:40:03.432727",
     "status": "completed"
    },
    "tags": []
   },
   "outputs": [
    {
     "data": {
      "text/plain": [
       "array([  1,  10, 100, 101, 103, 105,  11, 110, 111, 115, 116,  12,  13,\n",
       "        14,  15,  16,  17,  18,  19,   2,  20,  21,  22,  23,  24,  25,\n",
       "        26,  27,  28,  29,   3,  30,  31,  32,  33,  34,  35,  36,  37,\n",
       "        38,  39,   4,  40,  41,  42,  43,  44,  45,  46,  47,  48,  49,\n",
       "         5,  50,  51,  52,  53,  54,  55,  56,  57,  58,  59,   6,  60,\n",
       "        61,  62,  63,  64,  65,  66,  67,  68,  69,   7,  70,  71,  72,\n",
       "        73,  74,  75,  76,  77,  78,  79,   8,  80,  81,  82,  83,  84,\n",
       "        85,  86,  87,  88,  89,   9,  90,  91,  92,  93,  95,  96,  99])"
      ]
     },
     "execution_count": 7,
     "metadata": {},
     "output_type": "execute_result"
    }
   ],
   "source": [
    "dataset.age.unique()"
   ]
  },
  {
   "cell_type": "code",
   "execution_count": 8,
   "id": "2c598649",
   "metadata": {
    "execution": {
     "iopub.execute_input": "2024-01-28T05:40:03.478055Z",
     "iopub.status.busy": "2024-01-28T05:40:03.477413Z",
     "iopub.status.idle": "2024-01-28T05:40:03.484081Z",
     "shell.execute_reply": "2024-01-28T05:40:03.483151Z"
    },
    "papermill": {
     "duration": 0.019542,
     "end_time": "2024-01-28T05:40:03.486095",
     "exception": false,
     "start_time": "2024-01-28T05:40:03.466553",
     "status": "completed"
    },
    "tags": []
   },
   "outputs": [
    {
     "data": {
      "text/plain": [
       "array([2, 3, 4, 0, 1])"
      ]
     },
     "execution_count": 8,
     "metadata": {},
     "output_type": "execute_result"
    }
   ],
   "source": [
    "dataset.ethnicity.unique()"
   ]
  },
  {
   "cell_type": "code",
   "execution_count": 9,
   "id": "5282cc6a",
   "metadata": {
    "execution": {
     "iopub.execute_input": "2024-01-28T05:40:03.507445Z",
     "iopub.status.busy": "2024-01-28T05:40:03.506905Z",
     "iopub.status.idle": "2024-01-28T05:40:03.513000Z",
     "shell.execute_reply": "2024-01-28T05:40:03.512106Z"
    },
    "papermill": {
     "duration": 0.019166,
     "end_time": "2024-01-28T05:40:03.514803",
     "exception": false,
     "start_time": "2024-01-28T05:40:03.495637",
     "status": "completed"
    },
    "tags": []
   },
   "outputs": [
    {
     "data": {
      "text/plain": [
       "array([0, 1])"
      ]
     },
     "execution_count": 9,
     "metadata": {},
     "output_type": "execute_result"
    }
   ],
   "source": [
    "dataset.gender.unique()"
   ]
  },
  {
   "cell_type": "code",
   "execution_count": 10,
   "id": "24d5067c",
   "metadata": {
    "execution": {
     "iopub.execute_input": "2024-01-28T05:40:03.535947Z",
     "iopub.status.busy": "2024-01-28T05:40:03.535490Z",
     "iopub.status.idle": "2024-01-28T05:40:03.545405Z",
     "shell.execute_reply": "2024-01-28T05:40:03.544226Z"
    },
    "papermill": {
     "duration": 0.022466,
     "end_time": "2024-01-28T05:40:03.547280",
     "exception": false,
     "start_time": "2024-01-28T05:40:03.524814",
     "status": "completed"
    },
    "tags": []
   },
   "outputs": [
    {
     "name": "stdout",
     "output_type": "stream",
     "text": [
      "12391\n",
      "11314\n"
     ]
    }
   ],
   "source": [
    "print(sum(dataset.gender==0))##fairly balanced\n",
    "print(sum(dataset.gender==1))"
   ]
  },
  {
   "cell_type": "code",
   "execution_count": 11,
   "id": "950b36f9",
   "metadata": {
    "execution": {
     "iopub.execute_input": "2024-01-28T05:40:03.568157Z",
     "iopub.status.busy": "2024-01-28T05:40:03.567778Z",
     "iopub.status.idle": "2024-01-28T05:40:09.059059Z",
     "shell.execute_reply": "2024-01-28T05:40:09.057711Z"
    },
    "papermill": {
     "duration": 5.504543,
     "end_time": "2024-01-28T05:40:09.061610",
     "exception": false,
     "start_time": "2024-01-28T05:40:03.557067",
     "status": "completed"
    },
    "tags": []
   },
   "outputs": [
    {
     "data": {
      "text/html": [
       "<div>\n",
       "<style scoped>\n",
       "    .dataframe tbody tr th:only-of-type {\n",
       "        vertical-align: middle;\n",
       "    }\n",
       "\n",
       "    .dataframe tbody tr th {\n",
       "        vertical-align: top;\n",
       "    }\n",
       "\n",
       "    .dataframe thead th {\n",
       "        text-align: right;\n",
       "    }\n",
       "</style>\n",
       "<table border=\"1\" class=\"dataframe\">\n",
       "  <thead>\n",
       "    <tr style=\"text-align: right;\">\n",
       "      <th></th>\n",
       "      <th>age</th>\n",
       "      <th>ethnicity</th>\n",
       "      <th>gender</th>\n",
       "      <th>img_name</th>\n",
       "      <th>pixels</th>\n",
       "    </tr>\n",
       "  </thead>\n",
       "  <tbody>\n",
       "    <tr>\n",
       "      <th>0</th>\n",
       "      <td>1</td>\n",
       "      <td>2</td>\n",
       "      <td>0</td>\n",
       "      <td>20161219203650636.jpg.chip.jpg</td>\n",
       "      <td>[[[0.5058824], [0.5019608], [0.5019608], [0.49...</td>\n",
       "    </tr>\n",
       "    <tr>\n",
       "      <th>1</th>\n",
       "      <td>1</td>\n",
       "      <td>2</td>\n",
       "      <td>0</td>\n",
       "      <td>20161219222752047.jpg.chip.jpg</td>\n",
       "      <td>[[[0.6431373], [0.2901961], [0.43529412], [0.6...</td>\n",
       "    </tr>\n",
       "    <tr>\n",
       "      <th>2</th>\n",
       "      <td>1</td>\n",
       "      <td>2</td>\n",
       "      <td>0</td>\n",
       "      <td>20161219222832191.jpg.chip.jpg</td>\n",
       "      <td>[[[0.2627451], [0.27450982], [0.2784314], [0.2...</td>\n",
       "    </tr>\n",
       "    <tr>\n",
       "      <th>3</th>\n",
       "      <td>1</td>\n",
       "      <td>2</td>\n",
       "      <td>0</td>\n",
       "      <td>20161220144911423.jpg.chip.jpg</td>\n",
       "      <td>[[[0.75686276], [0.77254903], [0.7764706], [0....</td>\n",
       "    </tr>\n",
       "    <tr>\n",
       "      <th>4</th>\n",
       "      <td>1</td>\n",
       "      <td>2</td>\n",
       "      <td>0</td>\n",
       "      <td>20161220144914327.jpg.chip.jpg</td>\n",
       "      <td>[[[0.7921569], [0.8039216], [0.81960785], [0.8...</td>\n",
       "    </tr>\n",
       "    <tr>\n",
       "      <th>...</th>\n",
       "      <td>...</td>\n",
       "      <td>...</td>\n",
       "      <td>...</td>\n",
       "      <td>...</td>\n",
       "      <td>...</td>\n",
       "    </tr>\n",
       "    <tr>\n",
       "      <th>23700</th>\n",
       "      <td>99</td>\n",
       "      <td>0</td>\n",
       "      <td>1</td>\n",
       "      <td>20170120221920654.jpg.chip.jpg</td>\n",
       "      <td>[[[0.49803922], [0.39215687], [0.36862746], [0...</td>\n",
       "    </tr>\n",
       "    <tr>\n",
       "      <th>23701</th>\n",
       "      <td>99</td>\n",
       "      <td>1</td>\n",
       "      <td>1</td>\n",
       "      <td>20170120134639935.jpg.chip.jpg</td>\n",
       "      <td>[[[0.09019608], [0.10980392], [0.1254902], [0....</td>\n",
       "    </tr>\n",
       "    <tr>\n",
       "      <th>23702</th>\n",
       "      <td>99</td>\n",
       "      <td>2</td>\n",
       "      <td>1</td>\n",
       "      <td>20170110182418864.jpg.chip.jpg</td>\n",
       "      <td>[[[0.23137255], [0.19607843], [0.14509805], [0...</td>\n",
       "    </tr>\n",
       "    <tr>\n",
       "      <th>23703</th>\n",
       "      <td>99</td>\n",
       "      <td>2</td>\n",
       "      <td>1</td>\n",
       "      <td>20170117195405372.jpg.chip.jpg</td>\n",
       "      <td>[[[0.1764706], [0.42352942], [0.47058824], [0....</td>\n",
       "    </tr>\n",
       "    <tr>\n",
       "      <th>23704</th>\n",
       "      <td>99</td>\n",
       "      <td>0</td>\n",
       "      <td>1</td>\n",
       "      <td>20170110182052119.jpg.chip.jpg</td>\n",
       "      <td>[[[0.6117647], [0.6313726], [0.627451], [0.647...</td>\n",
       "    </tr>\n",
       "  </tbody>\n",
       "</table>\n",
       "<p>23705 rows × 5 columns</p>\n",
       "</div>"
      ],
      "text/plain": [
       "       age  ethnicity  gender                        img_name  \\\n",
       "0        1          2       0  20161219203650636.jpg.chip.jpg   \n",
       "1        1          2       0  20161219222752047.jpg.chip.jpg   \n",
       "2        1          2       0  20161219222832191.jpg.chip.jpg   \n",
       "3        1          2       0  20161220144911423.jpg.chip.jpg   \n",
       "4        1          2       0  20161220144914327.jpg.chip.jpg   \n",
       "...    ...        ...     ...                             ...   \n",
       "23700   99          0       1  20170120221920654.jpg.chip.jpg   \n",
       "23701   99          1       1  20170120134639935.jpg.chip.jpg   \n",
       "23702   99          2       1  20170110182418864.jpg.chip.jpg   \n",
       "23703   99          2       1  20170117195405372.jpg.chip.jpg   \n",
       "23704   99          0       1  20170110182052119.jpg.chip.jpg   \n",
       "\n",
       "                                                  pixels  \n",
       "0      [[[0.5058824], [0.5019608], [0.5019608], [0.49...  \n",
       "1      [[[0.6431373], [0.2901961], [0.43529412], [0.6...  \n",
       "2      [[[0.2627451], [0.27450982], [0.2784314], [0.2...  \n",
       "3      [[[0.75686276], [0.77254903], [0.7764706], [0....  \n",
       "4      [[[0.7921569], [0.8039216], [0.81960785], [0.8...  \n",
       "...                                                  ...  \n",
       "23700  [[[0.49803922], [0.39215687], [0.36862746], [0...  \n",
       "23701  [[[0.09019608], [0.10980392], [0.1254902], [0....  \n",
       "23702  [[[0.23137255], [0.19607843], [0.14509805], [0...  \n",
       "23703  [[[0.1764706], [0.42352942], [0.47058824], [0....  \n",
       "23704  [[[0.6117647], [0.6313726], [0.627451], [0.647...  \n",
       "\n",
       "[23705 rows x 5 columns]"
      ]
     },
     "execution_count": 11,
     "metadata": {},
     "output_type": "execute_result"
    }
   ],
   "source": [
    "dataset"
   ]
  },
  {
   "cell_type": "code",
   "execution_count": 12,
   "id": "c54b0e92",
   "metadata": {
    "execution": {
     "iopub.execute_input": "2024-01-28T05:40:09.082477Z",
     "iopub.status.busy": "2024-01-28T05:40:09.082038Z",
     "iopub.status.idle": "2024-01-28T05:40:09.181366Z",
     "shell.execute_reply": "2024-01-28T05:40:09.180413Z"
    },
    "papermill": {
     "duration": 0.112828,
     "end_time": "2024-01-28T05:40:09.184059",
     "exception": false,
     "start_time": "2024-01-28T05:40:09.071231",
     "status": "completed"
    },
    "tags": []
   },
   "outputs": [],
   "source": [
    "\n",
    "    \n",
    "# Extract features and labels\n",
    "image = np.array(dataset['pixels'].tolist()).astype(np.float32)\n",
    "age = np.array(dataset['age']).astype(np.float32)\n",
    "ethnicity = np.array(dataset['ethnicity']).astype(np.float32)\n",
    "gender = np.array(dataset['gender']).astype(np.float32)"
   ]
  },
  {
   "cell_type": "code",
   "execution_count": 13,
   "id": "75a6935f",
   "metadata": {
    "execution": {
     "iopub.execute_input": "2024-01-28T05:40:09.205501Z",
     "iopub.status.busy": "2024-01-28T05:40:09.205114Z",
     "iopub.status.idle": "2024-01-28T05:40:09.276144Z",
     "shell.execute_reply": "2024-01-28T05:40:09.274465Z"
    },
    "papermill": {
     "duration": 0.085712,
     "end_time": "2024-01-28T05:40:09.279100",
     "exception": false,
     "start_time": "2024-01-28T05:40:09.193388",
     "status": "completed"
    },
    "tags": []
   },
   "outputs": [],
   "source": [
    "image=np.array(image).astype(np.float32)"
   ]
  },
  {
   "cell_type": "code",
   "execution_count": 14,
   "id": "5e3603df",
   "metadata": {
    "execution": {
     "iopub.execute_input": "2024-01-28T05:40:09.301331Z",
     "iopub.status.busy": "2024-01-28T05:40:09.300408Z",
     "iopub.status.idle": "2024-01-28T05:40:09.308549Z",
     "shell.execute_reply": "2024-01-28T05:40:09.306909Z"
    },
    "papermill": {
     "duration": 0.022268,
     "end_time": "2024-01-28T05:40:09.311162",
     "exception": false,
     "start_time": "2024-01-28T05:40:09.288894",
     "status": "completed"
    },
    "tags": []
   },
   "outputs": [],
   "source": [
    "age=np.array(age).astype(np.float32)\n",
    "ethnicity=np.array(ethnicity).astype(np.float32)\n",
    "gender=np.array(gender).astype(np.float32)"
   ]
  },
  {
   "cell_type": "code",
   "execution_count": 15,
   "id": "c346c4a4",
   "metadata": {
    "execution": {
     "iopub.execute_input": "2024-01-28T05:40:09.332433Z",
     "iopub.status.busy": "2024-01-28T05:40:09.332087Z",
     "iopub.status.idle": "2024-01-28T05:40:09.865483Z",
     "shell.execute_reply": "2024-01-28T05:40:09.863984Z"
    },
    "papermill": {
     "duration": 0.546633,
     "end_time": "2024-01-28T05:40:09.868001",
     "exception": false,
     "start_time": "2024-01-28T05:40:09.321368",
     "status": "completed"
    },
    "tags": []
   },
   "outputs": [],
   "source": [
    "from sklearn.preprocessing import OneHotEncoder\n",
    "enc = LabelEncoder()\n",
    "ethnicity = tf.keras.utils.to_categorical(enc.fit_transform(ethnicity))\n"
   ]
  },
  {
   "cell_type": "code",
   "execution_count": 16,
   "id": "5acecdca",
   "metadata": {
    "execution": {
     "iopub.execute_input": "2024-01-28T05:40:09.889772Z",
     "iopub.status.busy": "2024-01-28T05:40:09.889173Z",
     "iopub.status.idle": "2024-01-28T05:40:09.895860Z",
     "shell.execute_reply": "2024-01-28T05:40:09.894449Z"
    },
    "papermill": {
     "duration": 0.020294,
     "end_time": "2024-01-28T05:40:09.898052",
     "exception": false,
     "start_time": "2024-01-28T05:40:09.877758",
     "status": "completed"
    },
    "tags": []
   },
   "outputs": [
    {
     "name": "stdout",
     "output_type": "stream",
     "text": [
      "(23705, 48, 48, 1)\n",
      "(23705,)\n",
      "(23705, 5)\n",
      "(23705,)\n"
     ]
    }
   ],
   "source": [
    "print(image.shape)\n",
    "print(age.shape)\n",
    "print(ethnicity.shape)\n",
    "print(gender.shape)"
   ]
  },
  {
   "cell_type": "code",
   "execution_count": 17,
   "id": "e7febc71",
   "metadata": {
    "execution": {
     "iopub.execute_input": "2024-01-28T05:40:09.918496Z",
     "iopub.status.busy": "2024-01-28T05:40:09.918164Z",
     "iopub.status.idle": "2024-01-28T05:40:09.922192Z",
     "shell.execute_reply": "2024-01-28T05:40:09.921079Z"
    },
    "papermill": {
     "duration": 0.017022,
     "end_time": "2024-01-28T05:40:09.924638",
     "exception": false,
     "start_time": "2024-01-28T05:40:09.907616",
     "status": "completed"
    },
    "tags": []
   },
   "outputs": [],
   "source": [
    "# Access the 'age' column\n",
    "age = dataset['age'].values\n"
   ]
  },
  {
   "cell_type": "code",
   "execution_count": 18,
   "id": "8c9392dc",
   "metadata": {
    "execution": {
     "iopub.execute_input": "2024-01-28T05:40:09.945112Z",
     "iopub.status.busy": "2024-01-28T05:40:09.944744Z",
     "iopub.status.idle": "2024-01-28T05:40:10.151050Z",
     "shell.execute_reply": "2024-01-28T05:40:10.148894Z"
    },
    "papermill": {
     "duration": 0.219862,
     "end_time": "2024-01-28T05:40:10.153932",
     "exception": false,
     "start_time": "2024-01-28T05:40:09.934070",
     "status": "completed"
    },
    "tags": []
   },
   "outputs": [],
   "source": [
    "\n",
    "# Split the data for age\n",
    "x_train_age, x_test_age, age_y_train, age_y_test = train_test_split(image, age, test_size=0.2, random_state=42, shuffle=True)\n",
    "x_train_age, x_val_age, age_y_train, age_y_val = train_test_split(x_train_age, age_y_train, test_size=0.25, random_state=42, shuffle=True)\n",
    "\n",
    "# Split the data for ethnicity\n",
    "x_train_ethnicity, x_test_ethnicity, ethnicity_y_train, ethnicity_y_test = train_test_split(image, ethnicity, test_size=0.2, random_state=42, shuffle=True)\n",
    "x_train_ethnicity, x_val_ethnicity, ethnicity_y_train, ethnicity_y_val = train_test_split(x_train_ethnicity, ethnicity_y_train, test_size=0.25, random_state=42, shuffle=True)\n",
    "\n",
    "# Split the data for gender\n",
    "x_train_gender, x_test_gender, gender_y_train, gender_y_test = train_test_split(image, gender, test_size=0.2, random_state=42, shuffle=True)\n",
    "x_train_gender, x_val_gender, gender_y_train, gender_y_val = train_test_split(x_train_gender, gender_y_train, test_size=0.25, random_state=42, shuffle=True)"
   ]
  },
  {
   "cell_type": "code",
   "execution_count": 19,
   "id": "432df5c8",
   "metadata": {
    "execution": {
     "iopub.execute_input": "2024-01-28T05:40:10.175429Z",
     "iopub.status.busy": "2024-01-28T05:40:10.175095Z",
     "iopub.status.idle": "2024-01-28T05:40:10.182980Z",
     "shell.execute_reply": "2024-01-28T05:40:10.181623Z"
    },
    "papermill": {
     "duration": 0.021833,
     "end_time": "2024-01-28T05:40:10.185564",
     "exception": false,
     "start_time": "2024-01-28T05:40:10.163731",
     "status": "completed"
    },
    "tags": []
   },
   "outputs": [
    {
     "data": {
      "text/plain": [
       "14223"
      ]
     },
     "execution_count": 19,
     "metadata": {},
     "output_type": "execute_result"
    }
   ],
   "source": [
    "len(x_train_age)"
   ]
  },
  {
   "cell_type": "code",
   "execution_count": 20,
   "id": "f0810475",
   "metadata": {
    "execution": {
     "iopub.execute_input": "2024-01-28T05:40:10.206312Z",
     "iopub.status.busy": "2024-01-28T05:40:10.205913Z",
     "iopub.status.idle": "2024-01-28T05:40:10.214171Z",
     "shell.execute_reply": "2024-01-28T05:40:10.212615Z"
    },
    "papermill": {
     "duration": 0.021093,
     "end_time": "2024-01-28T05:40:10.216440",
     "exception": false,
     "start_time": "2024-01-28T05:40:10.195347",
     "status": "completed"
    },
    "tags": []
   },
   "outputs": [
    {
     "data": {
      "text/plain": [
       "4741"
      ]
     },
     "execution_count": 20,
     "metadata": {},
     "output_type": "execute_result"
    }
   ],
   "source": [
    "len(x_test_age)"
   ]
  },
  {
   "cell_type": "code",
   "execution_count": 21,
   "id": "8729556f",
   "metadata": {
    "execution": {
     "iopub.execute_input": "2024-01-28T05:40:10.237387Z",
     "iopub.status.busy": "2024-01-28T05:40:10.237018Z",
     "iopub.status.idle": "2024-01-28T05:40:10.244180Z",
     "shell.execute_reply": "2024-01-28T05:40:10.242481Z"
    },
    "papermill": {
     "duration": 0.021379,
     "end_time": "2024-01-28T05:40:10.247422",
     "exception": false,
     "start_time": "2024-01-28T05:40:10.226043",
     "status": "completed"
    },
    "tags": []
   },
   "outputs": [
    {
     "name": "stdout",
     "output_type": "stream",
     "text": [
      "14223\n",
      "14223\n",
      "14223\n"
     ]
    }
   ],
   "source": [
    "print(len(age_y_train))\n",
    "print(len(ethnicity_y_train))\n",
    "print(len(gender_y_train))"
   ]
  },
  {
   "cell_type": "code",
   "execution_count": 22,
   "id": "6bd75f07",
   "metadata": {
    "execution": {
     "iopub.execute_input": "2024-01-28T05:40:10.269117Z",
     "iopub.status.busy": "2024-01-28T05:40:10.268768Z",
     "iopub.status.idle": "2024-01-28T05:40:10.276438Z",
     "shell.execute_reply": "2024-01-28T05:40:10.275083Z"
    },
    "papermill": {
     "duration": 0.021334,
     "end_time": "2024-01-28T05:40:10.278734",
     "exception": false,
     "start_time": "2024-01-28T05:40:10.257400",
     "status": "completed"
    },
    "tags": []
   },
   "outputs": [
    {
     "data": {
      "text/plain": [
       "array([1., 1., 0., ..., 1., 0., 0.], dtype=float32)"
      ]
     },
     "execution_count": 22,
     "metadata": {},
     "output_type": "execute_result"
    }
   ],
   "source": [
    "gender_y_train"
   ]
  },
  {
   "cell_type": "code",
   "execution_count": 23,
   "id": "b4e6a5ca",
   "metadata": {
    "execution": {
     "iopub.execute_input": "2024-01-28T05:40:10.300209Z",
     "iopub.status.busy": "2024-01-28T05:40:10.299795Z",
     "iopub.status.idle": "2024-01-28T05:40:10.305489Z",
     "shell.execute_reply": "2024-01-28T05:40:10.304616Z"
    },
    "papermill": {
     "duration": 0.01874,
     "end_time": "2024-01-28T05:40:10.307396",
     "exception": false,
     "start_time": "2024-01-28T05:40:10.288656",
     "status": "completed"
    },
    "tags": []
   },
   "outputs": [
    {
     "data": {
      "text/plain": [
       "numpy.ndarray"
      ]
     },
     "execution_count": 23,
     "metadata": {},
     "output_type": "execute_result"
    }
   ],
   "source": [
    "type(age)\n",
    "#print(gender.shape)\n"
   ]
  },
  {
   "cell_type": "code",
   "execution_count": 24,
   "id": "e6313574",
   "metadata": {
    "execution": {
     "iopub.execute_input": "2024-01-28T05:40:10.327742Z",
     "iopub.status.busy": "2024-01-28T05:40:10.327357Z",
     "iopub.status.idle": "2024-01-28T05:40:10.426977Z",
     "shell.execute_reply": "2024-01-28T05:40:10.425814Z"
    },
    "papermill": {
     "duration": 0.112609,
     "end_time": "2024-01-28T05:40:10.429539",
     "exception": false,
     "start_time": "2024-01-28T05:40:10.316930",
     "status": "completed"
    },
    "tags": []
   },
   "outputs": [],
   "source": [
    "##Building the modle\n",
    "age=tf.keras.models.Sequential()##to start the model\n"
   ]
  },
  {
   "cell_type": "code",
   "execution_count": 25,
   "id": "2533eb9d",
   "metadata": {
    "execution": {
     "iopub.execute_input": "2024-01-28T05:40:10.452442Z",
     "iopub.status.busy": "2024-01-28T05:40:10.452031Z",
     "iopub.status.idle": "2024-01-28T05:40:10.460563Z",
     "shell.execute_reply": "2024-01-28T05:40:10.458804Z"
    },
    "papermill": {
     "duration": 0.022341,
     "end_time": "2024-01-28T05:40:10.462640",
     "exception": false,
     "start_time": "2024-01-28T05:40:10.440299",
     "status": "completed"
    },
    "tags": []
   },
   "outputs": [
    {
     "data": {
      "text/plain": [
       "keras.engine.sequential.Sequential"
      ]
     },
     "execution_count": 25,
     "metadata": {},
     "output_type": "execute_result"
    }
   ],
   "source": [
    "type(age)\n",
    "#print(gender.shape)\n"
   ]
  },
  {
   "cell_type": "code",
   "execution_count": 26,
   "id": "04064b4c",
   "metadata": {
    "execution": {
     "iopub.execute_input": "2024-01-28T05:40:10.484790Z",
     "iopub.status.busy": "2024-01-28T05:40:10.484100Z",
     "iopub.status.idle": "2024-01-28T05:40:10.652819Z",
     "shell.execute_reply": "2024-01-28T05:40:10.651319Z"
    },
    "papermill": {
     "duration": 0.182724,
     "end_time": "2024-01-28T05:40:10.655426",
     "exception": false,
     "start_time": "2024-01-28T05:40:10.472702",
     "status": "completed"
    },
    "tags": []
   },
   "outputs": [],
   "source": [
    "import tensorflow as tf\n",
    "\n",
    "# Create a Sequential model\n",
    "age = tf.keras.Sequential()\n",
    "\n",
    "# First convolutional layer\n",
    "age.add(tf.keras.layers.Conv2D(filters=32, activation='relu', kernel_size=3, input_shape=[48, 48, 1]))\n",
    "age.add(tf.keras.layers.Dropout(0.2))\n",
    "\n",
    "# Pooling layer\n",
    "age.add(tf.keras.layers.MaxPool2D(pool_size=2, strides=2, padding='same'))\n",
    "\n",
    "# Second convolutional layer\n",
    "age.add(tf.keras.layers.Conv2D(filters=64, activation='relu', kernel_size=3))\n",
    "age.add(tf.keras.layers.Dropout(0.2))\n",
    "\n",
    "# Pooling layer\n",
    "age.add(tf.keras.layers.MaxPool2D(pool_size=2, strides=2, padding='same'))\n",
    "\n",
    "# Flatten the result\n",
    "age.add(tf.keras.layers.Flatten())\n",
    "\n",
    "# First fully connected layer\n",
    "age.add(tf.keras.layers.Dense(units=500, activation='relu'))\n",
    "age.add(tf.keras.layers.Dropout(0.2))\n",
    "\n",
    "# Second fully connected layer\n",
    "age.add(tf.keras.layers.Dense(units=500, activation='relu'))\n",
    "age.add(tf.keras.layers.Dropout(0.2))\n",
    "\n",
    "# Output layer\n",
    "age.add(tf.keras.layers.Dense(units=1, activation='linear'))\n"
   ]
  },
  {
   "cell_type": "code",
   "execution_count": 27,
   "id": "c858534c",
   "metadata": {
    "execution": {
     "iopub.execute_input": "2024-01-28T05:40:10.677891Z",
     "iopub.status.busy": "2024-01-28T05:40:10.677507Z",
     "iopub.status.idle": "2024-01-28T05:40:10.682796Z",
     "shell.execute_reply": "2024-01-28T05:40:10.681358Z"
    },
    "papermill": {
     "duration": 0.019745,
     "end_time": "2024-01-28T05:40:10.685615",
     "exception": false,
     "start_time": "2024-01-28T05:40:10.665870",
     "status": "completed"
    },
    "tags": []
   },
   "outputs": [],
   "source": [
    "#import tensorflow as tf\n",
    "#from tensorflow.keras.callbacks import EarlyStopping\n",
    "\n",
    "#early_stopping = EarlyStopping(monitor='val_loss', patience=3, restore_best_weights=True)"
   ]
  },
  {
   "cell_type": "code",
   "execution_count": 28,
   "id": "12f21fb8",
   "metadata": {
    "execution": {
     "iopub.execute_input": "2024-01-28T05:40:10.709431Z",
     "iopub.status.busy": "2024-01-28T05:40:10.709007Z",
     "iopub.status.idle": "2024-01-28T05:40:10.728349Z",
     "shell.execute_reply": "2024-01-28T05:40:10.726665Z"
    },
    "papermill": {
     "duration": 0.034876,
     "end_time": "2024-01-28T05:40:10.731186",
     "exception": false,
     "start_time": "2024-01-28T05:40:10.696310",
     "status": "completed"
    },
    "tags": []
   },
   "outputs": [],
   "source": [
    "##compile the model\n",
    "age.compile(optimizer='adam',loss='mean_squared_error',metrics = ['mse'])"
   ]
  },
  {
   "cell_type": "code",
   "execution_count": 29,
   "id": "ce156347",
   "metadata": {
    "execution": {
     "iopub.execute_input": "2024-01-28T05:40:10.753652Z",
     "iopub.status.busy": "2024-01-28T05:40:10.753248Z",
     "iopub.status.idle": "2024-01-28T05:40:10.792429Z",
     "shell.execute_reply": "2024-01-28T05:40:10.791274Z"
    },
    "papermill": {
     "duration": 0.054067,
     "end_time": "2024-01-28T05:40:10.795488",
     "exception": false,
     "start_time": "2024-01-28T05:40:10.741421",
     "status": "completed"
    },
    "tags": []
   },
   "outputs": [
    {
     "name": "stdout",
     "output_type": "stream",
     "text": [
      "Model: \"sequential_1\"\n",
      "_________________________________________________________________\n",
      " Layer (type)                Output Shape              Param #   \n",
      "=================================================================\n",
      " conv2d (Conv2D)             (None, 46, 46, 32)        320       \n",
      "                                                                 \n",
      " dropout (Dropout)           (None, 46, 46, 32)        0         \n",
      "                                                                 \n",
      " max_pooling2d (MaxPooling2D  (None, 23, 23, 32)       0         \n",
      " )                                                               \n",
      "                                                                 \n",
      " conv2d_1 (Conv2D)           (None, 21, 21, 64)        18496     \n",
      "                                                                 \n",
      " dropout_1 (Dropout)         (None, 21, 21, 64)        0         \n",
      "                                                                 \n",
      " max_pooling2d_1 (MaxPooling  (None, 11, 11, 64)       0         \n",
      " 2D)                                                             \n",
      "                                                                 \n",
      " flatten (Flatten)           (None, 7744)              0         \n",
      "                                                                 \n",
      " dense (Dense)               (None, 500)               3872500   \n",
      "                                                                 \n",
      " dropout_2 (Dropout)         (None, 500)               0         \n",
      "                                                                 \n",
      " dense_1 (Dense)             (None, 500)               250500    \n",
      "                                                                 \n",
      " dropout_3 (Dropout)         (None, 500)               0         \n",
      "                                                                 \n",
      " dense_2 (Dense)             (None, 1)                 501       \n",
      "                                                                 \n",
      "=================================================================\n",
      "Total params: 4,142,317\n",
      "Trainable params: 4,142,317\n",
      "Non-trainable params: 0\n",
      "_________________________________________________________________\n"
     ]
    }
   ],
   "source": [
    "age.summary()"
   ]
  },
  {
   "cell_type": "code",
   "execution_count": 30,
   "id": "49979368",
   "metadata": {
    "execution": {
     "iopub.execute_input": "2024-01-28T05:40:10.820952Z",
     "iopub.status.busy": "2024-01-28T05:40:10.820557Z",
     "iopub.status.idle": "2024-01-28T05:55:33.976493Z",
     "shell.execute_reply": "2024-01-28T05:55:33.974648Z"
    },
    "papermill": {
     "duration": 923.17179,
     "end_time": "2024-01-28T05:55:33.979142",
     "exception": false,
     "start_time": "2024-01-28T05:40:10.807352",
     "status": "completed"
    },
    "tags": []
   },
   "outputs": [
    {
     "name": "stdout",
     "output_type": "stream",
     "text": [
      "Epoch 1/25\n",
      "445/445 [==============================] - 39s 85ms/step - loss: 333.3583 - mse: 333.3583 - val_loss: 381.4284 - val_mse: 381.4284\n",
      "Epoch 2/25\n",
      "445/445 [==============================] - 37s 83ms/step - loss: 188.7013 - mse: 188.7013 - val_loss: 187.8361 - val_mse: 187.8361\n",
      "Epoch 3/25\n",
      "445/445 [==============================] - 37s 84ms/step - loss: 151.1110 - mse: 151.1110 - val_loss: 172.0299 - val_mse: 172.0299\n",
      "Epoch 4/25\n",
      "445/445 [==============================] - 36s 81ms/step - loss: 124.4828 - mse: 124.4828 - val_loss: 153.6506 - val_mse: 153.6506\n",
      "Epoch 5/25\n",
      "445/445 [==============================] - 36s 81ms/step - loss: 112.6915 - mse: 112.6915 - val_loss: 240.5287 - val_mse: 240.5287\n",
      "Epoch 6/25\n",
      "445/445 [==============================] - 37s 82ms/step - loss: 108.5269 - mse: 108.5269 - val_loss: 119.1664 - val_mse: 119.1664\n",
      "Epoch 7/25\n",
      "445/445 [==============================] - 38s 85ms/step - loss: 100.3355 - mse: 100.3355 - val_loss: 157.0903 - val_mse: 157.0903\n",
      "Epoch 8/25\n",
      "445/445 [==============================] - 37s 84ms/step - loss: 93.4396 - mse: 93.4396 - val_loss: 126.0486 - val_mse: 126.0486\n",
      "Epoch 9/25\n",
      "445/445 [==============================] - 38s 84ms/step - loss: 87.2470 - mse: 87.2470 - val_loss: 123.0957 - val_mse: 123.0957\n",
      "Epoch 10/25\n",
      "445/445 [==============================] - 38s 84ms/step - loss: 81.4821 - mse: 81.4821 - val_loss: 104.7930 - val_mse: 104.7930\n",
      "Epoch 11/25\n",
      "445/445 [==============================] - 37s 83ms/step - loss: 78.5099 - mse: 78.5099 - val_loss: 101.3131 - val_mse: 101.3131\n",
      "Epoch 12/25\n",
      "445/445 [==============================] - 36s 82ms/step - loss: 74.3954 - mse: 74.3954 - val_loss: 138.8019 - val_mse: 138.8019\n",
      "Epoch 13/25\n",
      "445/445 [==============================] - 37s 83ms/step - loss: 70.6581 - mse: 70.6581 - val_loss: 134.9957 - val_mse: 134.9957\n",
      "Epoch 14/25\n",
      "445/445 [==============================] - 37s 83ms/step - loss: 66.1541 - mse: 66.1541 - val_loss: 112.4953 - val_mse: 112.4953\n",
      "Epoch 15/25\n",
      "445/445 [==============================] - 37s 83ms/step - loss: 62.8012 - mse: 62.8012 - val_loss: 114.9468 - val_mse: 114.9468\n",
      "Epoch 16/25\n",
      "445/445 [==============================] - 37s 83ms/step - loss: 61.0474 - mse: 61.0474 - val_loss: 111.2121 - val_mse: 111.2121\n",
      "Epoch 17/25\n",
      "445/445 [==============================] - 37s 84ms/step - loss: 57.3300 - mse: 57.3300 - val_loss: 102.6688 - val_mse: 102.6688\n",
      "Epoch 18/25\n",
      "445/445 [==============================] - 37s 83ms/step - loss: 56.5233 - mse: 56.5233 - val_loss: 123.0264 - val_mse: 123.0264\n",
      "Epoch 19/25\n",
      "445/445 [==============================] - 36s 82ms/step - loss: 52.5367 - mse: 52.5367 - val_loss: 120.6826 - val_mse: 120.6826\n",
      "Epoch 20/25\n",
      "445/445 [==============================] - 36s 81ms/step - loss: 50.3322 - mse: 50.3322 - val_loss: 109.5468 - val_mse: 109.5468\n",
      "Epoch 21/25\n",
      "445/445 [==============================] - 36s 81ms/step - loss: 48.8569 - mse: 48.8569 - val_loss: 95.7642 - val_mse: 95.7642\n",
      "Epoch 22/25\n",
      "445/445 [==============================] - 36s 81ms/step - loss: 46.4172 - mse: 46.4172 - val_loss: 99.3218 - val_mse: 99.3218\n",
      "Epoch 23/25\n",
      "445/445 [==============================] - 36s 82ms/step - loss: 44.2509 - mse: 44.2509 - val_loss: 107.0329 - val_mse: 107.0329\n",
      "Epoch 24/25\n",
      "445/445 [==============================] - 37s 83ms/step - loss: 43.9747 - mse: 43.9747 - val_loss: 92.8092 - val_mse: 92.8092\n",
      "Epoch 25/25\n",
      "445/445 [==============================] - 37s 82ms/step - loss: 41.5605 - mse: 41.5605 - val_loss: 107.6446 - val_mse: 107.6446\n"
     ]
    }
   ],
   "source": [
    "age_model = age.fit(\n",
    "    x_train_age, age_y_train,\n",
    "    batch_size=32,\n",
    "    epochs=25,\n",
    "    validation_data=(x_val_age, age_y_val),\n",
    ")"
   ]
  },
  {
   "cell_type": "code",
   "execution_count": 31,
   "id": "d395666e",
   "metadata": {
    "execution": {
     "iopub.execute_input": "2024-01-28T05:55:35.267603Z",
     "iopub.status.busy": "2024-01-28T05:55:35.267212Z",
     "iopub.status.idle": "2024-01-28T05:55:35.272080Z",
     "shell.execute_reply": "2024-01-28T05:55:35.271066Z"
    },
    "papermill": {
     "duration": 0.648926,
     "end_time": "2024-01-28T05:55:35.273785",
     "exception": false,
     "start_time": "2024-01-28T05:55:34.624859",
     "status": "completed"
    },
    "tags": []
   },
   "outputs": [],
   "source": [
    "from keras.models import model_from_json\n",
    "from keras.models import Sequential  # If you're using a Sequential model\n",
    "from keras.layers import Dense, Conv2D, Flatten  # Example layers, adjust as per your model architecture\n"
   ]
  },
  {
   "cell_type": "code",
   "execution_count": 32,
   "id": "0a2b9376",
   "metadata": {
    "execution": {
     "iopub.execute_input": "2024-01-28T05:55:36.639099Z",
     "iopub.status.busy": "2024-01-28T05:55:36.638716Z",
     "iopub.status.idle": "2024-01-28T05:55:36.718124Z",
     "shell.execute_reply": "2024-01-28T05:55:36.717040Z"
    },
    "papermill": {
     "duration": 0.729232,
     "end_time": "2024-01-28T05:55:36.720514",
     "exception": false,
     "start_time": "2024-01-28T05:55:35.991282",
     "status": "completed"
    },
    "tags": []
   },
   "outputs": [],
   "source": [
    "#save\n",
    "age.save('/kaggle/working/age1.keras')  # The file needs to end with the .keras extension"
   ]
  },
  {
   "cell_type": "code",
   "execution_count": 33,
   "id": "9f46caed",
   "metadata": {
    "execution": {
     "iopub.execute_input": "2024-01-28T05:55:38.091468Z",
     "iopub.status.busy": "2024-01-28T05:55:38.091076Z",
     "iopub.status.idle": "2024-01-28T05:55:40.722531Z",
     "shell.execute_reply": "2024-01-28T05:55:40.721237Z"
    },
    "papermill": {
     "duration": 3.274182,
     "end_time": "2024-01-28T05:55:40.724877",
     "exception": false,
     "start_time": "2024-01-28T05:55:37.450695",
     "status": "completed"
    },
    "tags": []
   },
   "outputs": [
    {
     "name": "stdout",
     "output_type": "stream",
     "text": [
      "149/149 [==============================] - 2s 17ms/step - loss: 108.5651 - mse: 108.5651\n"
     ]
    }
   ],
   "source": [
    "results = age.evaluate(x_test_age,age_y_test)"
   ]
  },
  {
   "cell_type": "code",
   "execution_count": 34,
   "id": "5f9f0f94",
   "metadata": {
    "execution": {
     "iopub.execute_input": "2024-01-28T05:55:42.117386Z",
     "iopub.status.busy": "2024-01-28T05:55:42.116836Z",
     "iopub.status.idle": "2024-01-28T05:55:42.131207Z",
     "shell.execute_reply": "2024-01-28T05:55:42.130124Z"
    },
    "papermill": {
     "duration": 0.67911,
     "end_time": "2024-01-28T05:55:42.133471",
     "exception": false,
     "start_time": "2024-01-28T05:55:41.454361",
     "status": "completed"
    },
    "tags": []
   },
   "outputs": [],
   "source": [
    "x_test_age = np.array(x_test_age)"
   ]
  },
  {
   "cell_type": "code",
   "execution_count": 35,
   "id": "e2f3d96b",
   "metadata": {
    "execution": {
     "iopub.execute_input": "2024-01-28T05:55:43.504200Z",
     "iopub.status.busy": "2024-01-28T05:55:43.503843Z",
     "iopub.status.idle": "2024-01-28T05:55:43.508230Z",
     "shell.execute_reply": "2024-01-28T05:55:43.506890Z"
    },
    "papermill": {
     "duration": 0.652689,
     "end_time": "2024-01-28T05:55:43.510327",
     "exception": false,
     "start_time": "2024-01-28T05:55:42.857638",
     "status": "completed"
    },
    "tags": []
   },
   "outputs": [],
   "source": [
    "age_y_test = np.array(age_y_test)"
   ]
  },
  {
   "cell_type": "code",
   "execution_count": 36,
   "id": "d1928e54",
   "metadata": {
    "execution": {
     "iopub.execute_input": "2024-01-28T05:55:44.880463Z",
     "iopub.status.busy": "2024-01-28T05:55:44.880113Z",
     "iopub.status.idle": "2024-01-28T05:55:47.454715Z",
     "shell.execute_reply": "2024-01-28T05:55:47.452878Z"
    },
    "papermill": {
     "duration": 3.227017,
     "end_time": "2024-01-28T05:55:47.457375",
     "exception": false,
     "start_time": "2024-01-28T05:55:44.230358",
     "status": "completed"
    },
    "tags": []
   },
   "outputs": [
    {
     "name": "stdout",
     "output_type": "stream",
     "text": [
      "149/149 [==============================] - 3s 17ms/step - loss: 108.5651 - mse: 108.5651\n"
     ]
    }
   ],
   "source": [
    "# For age\n",
    "evaluation_results_age = age.evaluate(x_test_age, age_y_test)\n"
   ]
  },
  {
   "cell_type": "code",
   "execution_count": 37,
   "id": "2a0ca3fc",
   "metadata": {
    "execution": {
     "iopub.execute_input": "2024-01-28T05:55:48.834588Z",
     "iopub.status.busy": "2024-01-28T05:55:48.833357Z",
     "iopub.status.idle": "2024-01-28T05:55:48.839167Z",
     "shell.execute_reply": "2024-01-28T05:55:48.838486Z"
    },
    "papermill": {
     "duration": 0.658022,
     "end_time": "2024-01-28T05:55:48.841075",
     "exception": false,
     "start_time": "2024-01-28T05:55:48.183053",
     "status": "completed"
    },
    "tags": []
   },
   "outputs": [
    {
     "data": {
      "text/plain": [
       "array([49, 39,  8, ...,  2, 52, 49])"
      ]
     },
     "execution_count": 37,
     "metadata": {},
     "output_type": "execute_result"
    }
   ],
   "source": [
    "age_y_test"
   ]
  },
  {
   "cell_type": "code",
   "execution_count": 38,
   "id": "57627ab7",
   "metadata": {
    "execution": {
     "iopub.execute_input": "2024-01-28T05:55:50.216825Z",
     "iopub.status.busy": "2024-01-28T05:55:50.216462Z",
     "iopub.status.idle": "2024-01-28T05:55:52.980858Z",
     "shell.execute_reply": "2024-01-28T05:55:52.979224Z"
    },
    "papermill": {
     "duration": 3.425446,
     "end_time": "2024-01-28T05:55:52.983450",
     "exception": false,
     "start_time": "2024-01-28T05:55:49.558004",
     "status": "completed"
    },
    "tags": []
   },
   "outputs": [
    {
     "name": "stdout",
     "output_type": "stream",
     "text": [
      "149/149 [==============================] - 3s 17ms/step\n"
     ]
    }
   ],
   "source": [
    "# For age\n",
    "age_y_pred = age.predict(x_test_age)\n"
   ]
  },
  {
   "cell_type": "code",
   "execution_count": 39,
   "id": "c16427bb",
   "metadata": {
    "execution": {
     "iopub.execute_input": "2024-01-28T05:55:54.387150Z",
     "iopub.status.busy": "2024-01-28T05:55:54.386492Z",
     "iopub.status.idle": "2024-01-28T05:55:54.394111Z",
     "shell.execute_reply": "2024-01-28T05:55:54.393298Z"
    },
    "papermill": {
     "duration": 0.679297,
     "end_time": "2024-01-28T05:55:54.395844",
     "exception": false,
     "start_time": "2024-01-28T05:55:53.716547",
     "status": "completed"
    },
    "tags": []
   },
   "outputs": [
    {
     "data": {
      "text/plain": [
       "array([[29.00664902, 49.        ],\n",
       "       [30.88224792, 39.        ],\n",
       "       [ 7.59318209,  8.        ],\n",
       "       ...,\n",
       "       [ 5.9696188 ,  2.        ],\n",
       "       [42.05025864, 52.        ],\n",
       "       [39.22319412, 49.        ]])"
      ]
     },
     "execution_count": 39,
     "metadata": {},
     "output_type": "execute_result"
    }
   ],
   "source": [
    "np.concatenate((age_y_pred.reshape(len(age_y_pred),1),age_y_test.reshape(len(age_y_test),1)),1)##1 for verical of concatiantion and 0 for horizontal concatenation"
   ]
  },
  {
   "cell_type": "code",
   "execution_count": 40,
   "id": "a3b6ba2c",
   "metadata": {
    "execution": {
     "iopub.execute_input": "2024-01-28T05:55:55.818290Z",
     "iopub.status.busy": "2024-01-28T05:55:55.817509Z",
     "iopub.status.idle": "2024-01-28T05:55:56.053362Z",
     "shell.execute_reply": "2024-01-28T05:55:56.051376Z"
    },
    "papermill": {
     "duration": 0.898073,
     "end_time": "2024-01-28T05:55:56.056013",
     "exception": false,
     "start_time": "2024-01-28T05:55:55.157940",
     "status": "completed"
    },
    "tags": []
   },
   "outputs": [
    {
     "data": {
      "image/png": "[encoded data removed]",
      "text/plain": [
       "<Figure size 640x480 with 1 Axes>"
      ]
     },
     "metadata": {},
     "output_type": "display_data"
    }
   ],
   "source": [
    "# Get training and test loss histories\n",
    "training_loss = age_model.history['loss']\n",
    "test_loss = age_model.history['val_loss']\n",
    "\n",
    "# Create count of the number of epochs\n",
    "epoch_count = range(1, len(training_loss) + 1)\n",
    "\n",
    "# Visualize loss history\n",
    "plt.plot(epoch_count, training_loss, 'r--')\n",
    "plt.plot(epoch_count, test_loss, 'b-')\n",
    "plt.legend(['Training Loss', 'Test Loss'])\n",
    "plt.xlabel('Epoch')\n",
    "plt.ylabel('Loss')\n",
    "plt.show();\n"
   ]
  }
 ],
 "metadata": {
  "kaggle": {
   "accelerator": "none",
   "dataSources": [
    {
     "datasetId": 855240,
     "sourceId": 1458546,
     "sourceType": "datasetVersion"
    },
    {
     "datasetId": 4332249,
     "sourceId": 7442976,
     "sourceType": "datasetVersion"
    }
   ],
   "dockerImageVersionId": 30527,
   "isGpuEnabled": false,
   "isInternetEnabled": false,
   "language": "python",
   "sourceType": "notebook"
  },
  "kernelspec": {
   "display_name": "Python 3",
   "language": "python",
   "name": "python3"
  },
  "language_info": {
   "codemirror_mode": {
    "name": "ipython",
    "version": 3
   },
   "file_extension": ".py",
   "mimetype": "text/x-python",
   "name": "python",
   "nbconvert_exporter": "python",
   "pygments_lexer": "ipython3",
   "version": "3.10.12"
  },
  "papermill": {
   "default_parameters": {},
   "duration": 988.853907,
   "end_time": "2024-01-28T05:55:59.932144",
   "environment_variables": {},
   "exception": null,
   "input_path": "__notebook__.ipynb",
   "output_path": "__notebook__.ipynb",
   "parameters": {},
   "start_time": "2024-01-28T05:39:31.078237",
   "version": "2.4.0"
  }
 },
 "nbformat": 4,
 "nbformat_minor": 5
}
